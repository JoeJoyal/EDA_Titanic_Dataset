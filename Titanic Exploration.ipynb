{
 "cells": [
  {
   "cell_type": "code",
   "execution_count": 2,
   "metadata": {},
   "outputs": [],
   "source": [
    "import numpy as np \n",
    "import pandas as pd\n",
    "import matplotlib.pyplot as plt\n",
    "import seaborn as sns\n",
    "plt.style.use('fivethirtyeight')\n",
    "import warnings\n",
    "warnings.filterwarnings('ignore')\n",
    "%matplotlib inline"
   ]
  },
  {
   "cell_type": "code",
   "execution_count": 3,
   "metadata": {},
   "outputs": [
    {
     "data": {
      "text/html": [
       "<div>\n",
       "<style scoped>\n",
       "    .dataframe tbody tr th:only-of-type {\n",
       "        vertical-align: middle;\n",
       "    }\n",
       "\n",
       "    .dataframe tbody tr th {\n",
       "        vertical-align: top;\n",
       "    }\n",
       "\n",
       "    .dataframe thead th {\n",
       "        text-align: right;\n",
       "    }\n",
       "</style>\n",
       "<table border=\"1\" class=\"dataframe\">\n",
       "  <thead>\n",
       "    <tr style=\"text-align: right;\">\n",
       "      <th></th>\n",
       "      <th>PassengerId</th>\n",
       "      <th>Survived</th>\n",
       "      <th>Pclass</th>\n",
       "      <th>Name</th>\n",
       "      <th>Sex</th>\n",
       "      <th>Age</th>\n",
       "      <th>SibSp</th>\n",
       "      <th>Parch</th>\n",
       "      <th>Ticket</th>\n",
       "      <th>Fare</th>\n",
       "      <th>Cabin</th>\n",
       "      <th>Embarked</th>\n",
       "    </tr>\n",
       "  </thead>\n",
       "  <tbody>\n",
       "    <tr>\n",
       "      <th>0</th>\n",
       "      <td>1</td>\n",
       "      <td>0</td>\n",
       "      <td>3</td>\n",
       "      <td>Braund, Mr. Owen Harris</td>\n",
       "      <td>male</td>\n",
       "      <td>22.0</td>\n",
       "      <td>1</td>\n",
       "      <td>0</td>\n",
       "      <td>A/5 21171</td>\n",
       "      <td>7.2500</td>\n",
       "      <td>NaN</td>\n",
       "      <td>S</td>\n",
       "    </tr>\n",
       "    <tr>\n",
       "      <th>1</th>\n",
       "      <td>2</td>\n",
       "      <td>1</td>\n",
       "      <td>1</td>\n",
       "      <td>Cumings, Mrs. John Bradley (Florence Briggs Th...</td>\n",
       "      <td>female</td>\n",
       "      <td>38.0</td>\n",
       "      <td>1</td>\n",
       "      <td>0</td>\n",
       "      <td>PC 17599</td>\n",
       "      <td>71.2833</td>\n",
       "      <td>C85</td>\n",
       "      <td>C</td>\n",
       "    </tr>\n",
       "    <tr>\n",
       "      <th>2</th>\n",
       "      <td>3</td>\n",
       "      <td>1</td>\n",
       "      <td>3</td>\n",
       "      <td>Heikkinen, Miss. Laina</td>\n",
       "      <td>female</td>\n",
       "      <td>26.0</td>\n",
       "      <td>0</td>\n",
       "      <td>0</td>\n",
       "      <td>STON/O2. 3101282</td>\n",
       "      <td>7.9250</td>\n",
       "      <td>NaN</td>\n",
       "      <td>S</td>\n",
       "    </tr>\n",
       "    <tr>\n",
       "      <th>3</th>\n",
       "      <td>4</td>\n",
       "      <td>1</td>\n",
       "      <td>1</td>\n",
       "      <td>Futrelle, Mrs. Jacques Heath (Lily May Peel)</td>\n",
       "      <td>female</td>\n",
       "      <td>35.0</td>\n",
       "      <td>1</td>\n",
       "      <td>0</td>\n",
       "      <td>113803</td>\n",
       "      <td>53.1000</td>\n",
       "      <td>C123</td>\n",
       "      <td>S</td>\n",
       "    </tr>\n",
       "    <tr>\n",
       "      <th>4</th>\n",
       "      <td>5</td>\n",
       "      <td>0</td>\n",
       "      <td>3</td>\n",
       "      <td>Allen, Mr. William Henry</td>\n",
       "      <td>male</td>\n",
       "      <td>35.0</td>\n",
       "      <td>0</td>\n",
       "      <td>0</td>\n",
       "      <td>373450</td>\n",
       "      <td>8.0500</td>\n",
       "      <td>NaN</td>\n",
       "      <td>S</td>\n",
       "    </tr>\n",
       "  </tbody>\n",
       "</table>\n",
       "</div>"
      ],
      "text/plain": [
       "   PassengerId  Survived  Pclass  \\\n",
       "0            1         0       3   \n",
       "1            2         1       1   \n",
       "2            3         1       3   \n",
       "3            4         1       1   \n",
       "4            5         0       3   \n",
       "\n",
       "                                                Name     Sex   Age  SibSp  \\\n",
       "0                            Braund, Mr. Owen Harris    male  22.0      1   \n",
       "1  Cumings, Mrs. John Bradley (Florence Briggs Th...  female  38.0      1   \n",
       "2                             Heikkinen, Miss. Laina  female  26.0      0   \n",
       "3       Futrelle, Mrs. Jacques Heath (Lily May Peel)  female  35.0      1   \n",
       "4                           Allen, Mr. William Henry    male  35.0      0   \n",
       "\n",
       "   Parch            Ticket     Fare Cabin Embarked  \n",
       "0      0         A/5 21171   7.2500   NaN        S  \n",
       "1      0          PC 17599  71.2833   C85        C  \n",
       "2      0  STON/O2. 3101282   7.9250   NaN        S  \n",
       "3      0            113803  53.1000  C123        S  \n",
       "4      0            373450   8.0500   NaN        S  "
      ]
     },
     "execution_count": 3,
     "metadata": {},
     "output_type": "execute_result"
    }
   ],
   "source": [
    "data=pd.read_csv('train.csv')\n",
    "data.head()"
   ]
  },
  {
   "cell_type": "code",
   "execution_count": 4,
   "metadata": {},
   "outputs": [
    {
     "name": "stdout",
     "output_type": "stream",
     "text": [
      "Header=['PassengerId', 'Survived', 'Pclass', 'Name', 'Sex', 'Age', 'SibSp', 'Parch', 'Ticket', 'Fare', 'Cabin', 'Embarked']\n",
      "Braund, Mr. Owen Harris\n",
      "Cumings, Mrs. John Bradley (Florence Briggs Thayer)\n",
      "Heikkinen, Miss. Laina\n",
      "Futrelle, Mrs. Jacques Heath (Lily May Peel)\n",
      "Allen, Mr. William Henry\n",
      "Moran, Mr. James\n",
      "McCarthy, Mr. Timothy J\n",
      "Palsson, Master. Gosta Leonard\n",
      "Johnson, Mrs. Oscar W (Elisabeth Vilhelmina Berg)\n",
      "Nasser, Mrs. Nicholas (Adele Achem)\n",
      "Sandstrom, Miss. Marguerite Rut\n",
      "Bonnell, Miss. Elizabeth\n",
      "Saundercock, Mr. William Henry\n",
      "Andersson, Mr. Anders Johan\n",
      "Vestrom, Miss. Hulda Amanda Adolfina\n",
      "Hewlett, Mrs. (Mary D Kingcome) \n",
      "Rice, Master. Eugene\n",
      "Williams, Mr. Charles Eugene\n",
      "Vander Planke, Mrs. Julius (Emelia Maria Vandemoortele)\n",
      "Masselmani, Mrs. Fatima\n",
      "Fynney, Mr. Joseph J\n",
      "Beesley, Mr. Lawrence\n",
      "McGowan, Miss. Anna \"Annie\"\n",
      "Sloper, Mr. William Thompson\n",
      "Palsson, Miss. Torborg Danira\n",
      "Asplund, Mrs. Carl Oscar (Selma Augusta Emilia Johansson)\n",
      "Emir, Mr. Farred Chehab\n",
      "Fortune, Mr. Charles Alexander\n",
      "O'Dwyer, Miss. Ellen \"Nellie\"\n",
      "Todoroff, Mr. Lalio\n",
      "Uruchurtu, Don. Manuel E\n",
      "Spencer, Mrs. William Augustus (Marie Eugenie)\n",
      "Glynn, Miss. Mary Agatha\n",
      "Wheadon, Mr. Edward H\n",
      "Meyer, Mr. Edgar Joseph\n",
      "Holverson, Mr. Alexander Oskar\n",
      "Mamee, Mr. Hanna\n",
      "Cann, Mr. Ernest Charles\n",
      "Vander Planke, Miss. Augusta Maria\n",
      "Nicola-Yarred, Miss. Jamila\n",
      "Ahlin, Mrs. Johan (Johanna Persdotter Larsson)\n",
      "Turpin, Mrs. William John Robert (Dorothy Ann Wonnacott)\n",
      "Kraeff, Mr. Theodor\n",
      "Laroche, Miss. Simonne Marie Anne Andree\n",
      "Devaney, Miss. Margaret Delia\n",
      "Rogers, Mr. William John\n",
      "Lennon, Mr. Denis\n",
      "O'Driscoll, Miss. Bridget\n",
      "Samaan, Mr. Youssef\n",
      "Arnold-Franchi, Mrs. Josef (Josefine Franchi)\n",
      "Panula, Master. Juha Niilo\n",
      "Nosworthy, Mr. Richard Cater\n",
      "Harper, Mrs. Henry Sleeper (Myna Haxtun)\n",
      "Faunthorpe, Mrs. Lizzie (Elizabeth Anne Wilkinson)\n",
      "Ostby, Mr. Engelhart Cornelius\n",
      "Woolner, Mr. Hugh\n",
      "Rugg, Miss. Emily\n",
      "Novel, Mr. Mansouer\n",
      "West, Miss. Constance Mirium\n",
      "Goodwin, Master. William Frederick\n",
      "Sirayanian, Mr. Orsen\n",
      "Icard, Miss. Amelie\n",
      "Harris, Mr. Henry Birkhardt\n",
      "Skoog, Master. Harald\n",
      "Stewart, Mr. Albert A\n",
      "Moubarek, Master. Gerios\n",
      "Nye, Mrs. (Elizabeth Ramell)\n",
      "Crease, Mr. Ernest James\n",
      "Andersson, Miss. Erna Alexandra\n",
      "Kink, Mr. Vincenz\n",
      "Jenkin, Mr. Stephen Curnow\n",
      "Goodwin, Miss. Lillian Amy\n",
      "Hood, Mr. Ambrose Jr\n",
      "Chronopoulos, Mr. Apostolos\n",
      "Bing, Mr. Lee\n",
      "Moen, Mr. Sigurd Hansen\n",
      "Staneff, Mr. Ivan\n",
      "Moutal, Mr. Rahamin Haim\n",
      "Caldwell, Master. Alden Gates\n",
      "Dowdell, Miss. Elizabeth\n",
      "Waelens, Mr. Achille\n",
      "Sheerlinck, Mr. Jan Baptist\n",
      "McDermott, Miss. Brigdet Delia\n",
      "Carrau, Mr. Francisco M\n",
      "Ilett, Miss. Bertha\n",
      "Backstrom, Mrs. Karl Alfred (Maria Mathilda Gustafsson)\n",
      "Ford, Mr. William Neal\n",
      "Slocovski, Mr. Selman Francis\n",
      "Fortune, Miss. Mabel Helen\n",
      "Celotti, Mr. Francesco\n",
      "Christmann, Mr. Emil\n",
      "Andreasson, Mr. Paul Edvin\n",
      "Chaffee, Mr. Herbert Fuller\n",
      "Dean, Mr. Bertram Frank\n",
      "Coxon, Mr. Daniel\n",
      "Shorney, Mr. Charles Joseph\n",
      "Goldschmidt, Mr. George B\n",
      "Greenfield, Mr. William Bertram\n",
      "Doling, Mrs. John T (Ada Julia Bone)\n",
      "Kantor, Mr. Sinai\n",
      "Petranec, Miss. Matilda\n",
      "Petroff, Mr. Pastcho (\"Pentcho\")\n",
      "White, Mr. Richard Frasar\n",
      "Johansson, Mr. Gustaf Joel\n",
      "Gustafsson, Mr. Anders Vilhelm\n",
      "Mionoff, Mr. Stoytcho\n",
      "Salkjelsvik, Miss. Anna Kristine\n",
      "Moss, Mr. Albert Johan\n",
      "Rekic, Mr. Tido\n",
      "Moran, Miss. Bertha\n",
      "Porter, Mr. Walter Chamberlain\n",
      "Zabour, Miss. Hileni\n",
      "Barton, Mr. David John\n",
      "Jussila, Miss. Katriina\n",
      "Attalah, Miss. Malake\n",
      "Pekoniemi, Mr. Edvard\n",
      "Connors, Mr. Patrick\n",
      "Turpin, Mr. William John Robert\n",
      "Baxter, Mr. Quigg Edmond\n",
      "Andersson, Miss. Ellis Anna Maria\n",
      "Hickman, Mr. Stanley George\n",
      "Moore, Mr. Leonard Charles\n",
      "Nasser, Mr. Nicholas\n",
      "Webber, Miss. Susan\n",
      "White, Mr. Percival Wayland\n",
      "Nicola-Yarred, Master. Elias\n",
      "McMahon, Mr. Martin\n",
      "Madsen, Mr. Fridtjof Arne\n",
      "Peter, Miss. Anna\n",
      "Ekstrom, Mr. Johan\n",
      "Drazenoic, Mr. Jozef\n",
      "Coelho, Mr. Domingos Fernandeo\n",
      "Robins, Mrs. Alexander A (Grace Charity Laury)\n",
      "Weisz, Mrs. Leopold (Mathilde Francoise Pede)\n",
      "Sobey, Mr. Samuel James Hayden\n",
      "Richard, Mr. Emile\n",
      "Newsom, Miss. Helen Monypeny\n",
      "Futrelle, Mr. Jacques Heath\n",
      "Osen, Mr. Olaf Elon\n",
      "Giglio, Mr. Victor\n",
      "Boulos, Mrs. Joseph (Sultana)\n",
      "Nysten, Miss. Anna Sofia\n",
      "Hakkarainen, Mrs. Pekka Pietari (Elin Matilda Dolck)\n",
      "Burke, Mr. Jeremiah\n",
      "Andrew, Mr. Edgardo Samuel\n",
      "Nicholls, Mr. Joseph Charles\n",
      "Andersson, Mr. August Edvard (\"Wennerstrom\")\n",
      "Ford, Miss. Robina Maggie \"Ruby\"\n",
      "Navratil, Mr. Michel (\"Louis M Hoffman\")\n",
      "Byles, Rev. Thomas Roussel Davids\n",
      "Bateman, Rev. Robert James\n",
      "Pears, Mrs. Thomas (Edith Wearne)\n",
      "Meo, Mr. Alfonzo\n",
      "van Billiard, Mr. Austin Blyler\n",
      "Olsen, Mr. Ole Martin\n",
      "Williams, Mr. Charles Duane\n",
      "Gilnagh, Miss. Katherine \"Katie\"\n",
      "Corn, Mr. Harry\n",
      "Smiljanic, Mr. Mile\n",
      "Sage, Master. Thomas Henry\n",
      "Cribb, Mr. John Hatfield\n",
      "Watt, Mrs. James (Elizabeth \"Bessie\" Inglis Milne)\n",
      "Bengtsson, Mr. John Viktor\n",
      "Calic, Mr. Jovo\n",
      "Panula, Master. Eino Viljami\n",
      "Goldsmith, Master. Frank John William \"Frankie\"\n",
      "Chibnall, Mrs. (Edith Martha Bowerman)\n",
      "Skoog, Mrs. William (Anna Bernhardina Karlsson)\n",
      "Baumann, Mr. John D\n",
      "Ling, Mr. Lee\n",
      "Van der hoef, Mr. Wyckoff\n",
      "Rice, Master. Arthur\n",
      "Johnson, Miss. Eleanor Ileen\n",
      "Sivola, Mr. Antti Wilhelm\n",
      "Smith, Mr. James Clinch\n",
      "Klasen, Mr. Klas Albin\n",
      "Lefebre, Master. Henry Forbes\n",
      "Isham, Miss. Ann Elizabeth\n",
      "Hale, Mr. Reginald\n",
      "Leonard, Mr. Lionel\n",
      "Sage, Miss. Constance Gladys\n",
      "Pernot, Mr. Rene\n",
      "Asplund, Master. Clarence Gustaf Hugo\n",
      "Becker, Master. Richard F\n",
      "Kink-Heilmann, Miss. Luise Gretchen\n",
      "Rood, Mr. Hugh Roscoe\n",
      "O'Brien, Mrs. Thomas (Johanna \"Hannah\" Godfrey)\n",
      "Romaine, Mr. Charles Hallace (\"Mr C Rolmane\")\n",
      "Bourke, Mr. John\n",
      "Turcin, Mr. Stjepan\n",
      "Pinsky, Mrs. (Rosa)\n",
      "Carbines, Mr. William\n",
      "Andersen-Jensen, Miss. Carla Christine Nielsine\n",
      "Navratil, Master. Michel M\n",
      "Brown, Mrs. James Joseph (Margaret Tobin)\n",
      "Lurette, Miss. Elise\n",
      "Mernagh, Mr. Robert\n",
      "Olsen, Mr. Karl Siegwart Andreas\n",
      "Madigan, Miss. Margaret \"Maggie\"\n",
      "Yrois, Miss. Henriette (\"Mrs Harbeck\")\n",
      "Vande Walle, Mr. Nestor Cyriel\n",
      "Sage, Mr. Frederick\n",
      "Johanson, Mr. Jakob Alfred\n",
      "Youseff, Mr. Gerious\n",
      "Cohen, Mr. Gurshon \"Gus\"\n",
      "Strom, Miss. Telma Matilda\n",
      "Backstrom, Mr. Karl Alfred\n",
      "Albimona, Mr. Nassef Cassem\n",
      "Carr, Miss. Helen \"Ellen\"\n",
      "Blank, Mr. Henry\n",
      "Ali, Mr. Ahmed\n",
      "Cameron, Miss. Clear Annie\n",
      "Perkin, Mr. John Henry\n",
      "Givard, Mr. Hans Kristensen\n",
      "Kiernan, Mr. Philip\n",
      "Newell, Miss. Madeleine\n",
      "Honkanen, Miss. Eliina\n",
      "Jacobsohn, Mr. Sidney Samuel\n",
      "Bazzani, Miss. Albina\n",
      "Harris, Mr. Walter\n",
      "Sunderland, Mr. Victor Francis\n",
      "Bracken, Mr. James H\n",
      "Green, Mr. George Henry\n",
      "Nenkoff, Mr. Christo\n",
      "Hoyt, Mr. Frederick Maxfield\n",
      "Berglund, Mr. Karl Ivar Sven\n",
      "Mellors, Mr. William John\n",
      "Lovell, Mr. John Hall (\"Henry\")\n",
      "Fahlstrom, Mr. Arne Jonas\n",
      "Lefebre, Miss. Mathilde\n",
      "Harris, Mrs. Henry Birkhardt (Irene Wallach)\n",
      "Larsson, Mr. Bengt Edvin\n",
      "Sjostedt, Mr. Ernst Adolf\n",
      "Asplund, Miss. Lillian Gertrud\n",
      "Leyson, Mr. Robert William Norman\n",
      "Harknett, Miss. Alice Phoebe\n",
      "Hold, Mr. Stephen\n",
      "Collyer, Miss. Marjorie \"Lottie\"\n",
      "Pengelly, Mr. Frederick William\n",
      "Hunt, Mr. George Henry\n",
      "Zabour, Miss. Thamine\n",
      "Murphy, Miss. Katherine \"Kate\"\n",
      "Coleridge, Mr. Reginald Charles\n",
      "Maenpaa, Mr. Matti Alexanteri\n",
      "Attalah, Mr. Sleiman\n",
      "Minahan, Dr. William Edward\n",
      "Lindahl, Miss. Agda Thorilda Viktoria\n",
      "Hamalainen, Mrs. William (Anna)\n",
      "Beckwith, Mr. Richard Leonard\n",
      "Carter, Rev. Ernest Courtenay\n",
      "Reed, Mr. James George\n",
      "Strom, Mrs. Wilhelm (Elna Matilda Persson)\n",
      "Stead, Mr. William Thomas\n",
      "Lobb, Mr. William Arthur\n",
      "Rosblom, Mrs. Viktor (Helena Wilhelmina)\n",
      "Touma, Mrs. Darwis (Hanne Youssef Razi)\n",
      "Thorne, Mrs. Gertrude Maybelle\n",
      "Cherry, Miss. Gladys\n",
      "Ward, Miss. Anna\n",
      "Parrish, Mrs. (Lutie Davis)\n",
      "Smith, Mr. Thomas\n",
      "Asplund, Master. Edvin Rojj Felix\n",
      "Taussig, Mr. Emil\n",
      "Harrison, Mr. William\n",
      "Henry, Miss. Delia\n",
      "Reeves, Mr. David\n",
      "Panula, Mr. Ernesti Arvid\n",
      "Persson, Mr. Ernst Ulrik\n",
      "Graham, Mrs. William Thompson (Edith Junkins)\n",
      "Bissette, Miss. Amelia\n",
      "Cairns, Mr. Alexander\n",
      "Tornquist, Mr. William Henry\n",
      "Mellinger, Mrs. (Elizabeth Anne Maidment)\n",
      "Natsch, Mr. Charles H\n",
      "Healy, Miss. Hanora \"Nora\"\n",
      "Andrews, Miss. Kornelia Theodosia\n",
      "Lindblom, Miss. Augusta Charlotta\n",
      "Parkes, Mr. Francis \"Frank\"\n",
      "Rice, Master. Eric\n",
      "Abbott, Mrs. Stanton (Rosa Hunt)\n",
      "Duane, Mr. Frank\n",
      "Olsson, Mr. Nils Johan Goransson\n",
      "de Pelsmaeker, Mr. Alfons\n",
      "Dorking, Mr. Edward Arthur\n",
      "Smith, Mr. Richard William\n",
      "Stankovic, Mr. Ivan\n",
      "de Mulder, Mr. Theodore\n",
      "Naidenoff, Mr. Penko\n",
      "Hosono, Mr. Masabumi\n",
      "Connolly, Miss. Kate\n",
      "Barber, Miss. Ellen \"Nellie\"\n",
      "Bishop, Mrs. Dickinson H (Helen Walton)\n",
      "Levy, Mr. Rene Jacques\n",
      "Haas, Miss. Aloisia\n",
      "Mineff, Mr. Ivan\n",
      "Lewy, Mr. Ervin G\n",
      "Hanna, Mr. Mansour\n",
      "Allison, Miss. Helen Loraine\n",
      "Saalfeld, Mr. Adolphe\n",
      "Baxter, Mrs. James (Helene DeLaudeniere Chaput)\n",
      "Kelly, Miss. Anna Katherine \"Annie Kate\"\n",
      "McCoy, Mr. Bernard\n",
      "Johnson, Mr. William Cahoone Jr\n",
      "Keane, Miss. Nora A\n",
      "Williams, Mr. Howard Hugh \"Harry\"\n",
      "Allison, Master. Hudson Trevor\n",
      "Fleming, Miss. Margaret\n",
      "Penasco y Castellana, Mrs. Victor de Satode (Maria Josefa Perez de Soto y Vallejo)\n",
      "Abelson, Mr. Samuel\n",
      "Francatelli, Miss. Laura Mabel\n",
      "Hays, Miss. Margaret Bechstein\n",
      "Ryerson, Miss. Emily Borie\n",
      "Lahtinen, Mrs. William (Anna Sylfven)\n",
      "Hendekovic, Mr. Ignjac\n",
      "Hart, Mr. Benjamin\n",
      "Nilsson, Miss. Helmina Josefina\n",
      "Kantor, Mrs. Sinai (Miriam Sternin)\n",
      "Moraweck, Dr. Ernest\n",
      "Wick, Miss. Mary Natalie\n",
      "Spedden, Mrs. Frederic Oakley (Margaretta Corning Stone)\n",
      "Dennis, Mr. Samuel\n",
      "Danoff, Mr. Yoto\n",
      "Slayter, Miss. Hilda Mary\n",
      "Caldwell, Mrs. Albert Francis (Sylvia Mae Harbaugh)\n",
      "Sage, Mr. George John Jr\n",
      "Young, Miss. Marie Grice\n",
      "Nysveen, Mr. Johan Hansen\n",
      "Ball, Mrs. (Ada E Hall)\n",
      "Goldsmith, Mrs. Frank John (Emily Alice Brown)\n",
      "Hippach, Miss. Jean Gertrude\n",
      "McCoy, Miss. Agnes\n",
      "Partner, Mr. Austen\n",
      "Graham, Mr. George Edward\n",
      "Vander Planke, Mr. Leo Edmondus\n",
      "Frauenthal, Mrs. Henry William (Clara Heinsheimer)\n",
      "Denkoff, Mr. Mitto\n",
      "Pears, Mr. Thomas Clinton\n",
      "Burns, Miss. Elizabeth Margaret\n",
      "Dahl, Mr. Karl Edwart\n",
      "Blackwell, Mr. Stephen Weart\n",
      "Navratil, Master. Edmond Roger\n",
      "Fortune, Miss. Alice Elizabeth\n",
      "Collander, Mr. Erik Gustaf\n",
      "Sedgwick, Mr. Charles Frederick Waddington\n",
      "Fox, Mr. Stanley Hubert\n",
      "Brown, Miss. Amelia \"Mildred\"\n",
      "Smith, Miss. Marion Elsie\n",
      "Davison, Mrs. Thomas Henry (Mary E Finck)\n",
      "Coutts, Master. William Loch \"William\"\n",
      "Dimic, Mr. Jovan\n",
      "Odahl, Mr. Nils Martin\n",
      "Williams-Lambert, Mr. Fletcher Fellows\n",
      "Elias, Mr. Tannous\n",
      "Arnold-Franchi, Mr. Josef\n",
      "Yousif, Mr. Wazli\n",
      "Vanden Steen, Mr. Leo Peter\n",
      "Bowerman, Miss. Elsie Edith\n",
      "Funk, Miss. Annie Clemmer\n",
      "McGovern, Miss. Mary\n",
      "Mockler, Miss. Helen Mary \"Ellie\"\n",
      "Skoog, Mr. Wilhelm\n",
      "del Carlo, Mr. Sebastiano\n",
      "Barbara, Mrs. (Catherine David)\n",
      "Asim, Mr. Adola\n",
      "O'Brien, Mr. Thomas\n",
      "Adahl, Mr. Mauritz Nils Martin\n",
      "Warren, Mrs. Frank Manley (Anna Sophia Atkinson)\n",
      "Moussa, Mrs. (Mantoura Boulos)\n",
      "Jermyn, Miss. Annie\n",
      "Aubart, Mme. Leontine Pauline\n",
      "Harder, Mr. George Achilles\n",
      "Wiklund, Mr. Jakob Alfred\n",
      "Beavan, Mr. William Thomas\n",
      "Ringhini, Mr. Sante\n",
      "Palsson, Miss. Stina Viola\n",
      "Meyer, Mrs. Edgar Joseph (Leila Saks)\n",
      "Landergren, Miss. Aurora Adelia\n",
      "Widener, Mr. Harry Elkins\n",
      "Betros, Mr. Tannous\n",
      "Gustafsson, Mr. Karl Gideon\n",
      "Bidois, Miss. Rosalie\n",
      "Nakid, Miss. Maria (\"Mary\")\n",
      "Tikkanen, Mr. Juho\n",
      "Holverson, Mrs. Alexander Oskar (Mary Aline Towner)\n",
      "Plotcharsky, Mr. Vasil\n",
      "Davies, Mr. Charles Henry\n",
      "Goodwin, Master. Sidney Leonard\n",
      "Buss, Miss. Kate\n",
      "Sadlier, Mr. Matthew\n",
      "Lehmann, Miss. Bertha\n",
      "Carter, Mr. William Ernest\n",
      "Jansson, Mr. Carl Olof\n",
      "Gustafsson, Mr. Johan Birger\n",
      "Newell, Miss. Marjorie\n",
      "Sandstrom, Mrs. Hjalmar (Agnes Charlotta Bengtsson)\n",
      "Johansson, Mr. Erik\n",
      "Olsson, Miss. Elina\n",
      "McKane, Mr. Peter David\n",
      "Pain, Dr. Alfred\n",
      "Trout, Mrs. William H (Jessie L)\n",
      "Niskanen, Mr. Juha\n",
      "Adams, Mr. John\n",
      "Jussila, Miss. Mari Aina\n",
      "Hakkarainen, Mr. Pekka Pietari\n",
      "Oreskovic, Miss. Marija\n",
      "Gale, Mr. Shadrach\n",
      "Widegren, Mr. Carl/Charles Peter\n",
      "Richards, Master. William Rowe\n",
      "Birkeland, Mr. Hans Martin Monsen\n",
      "Lefebre, Miss. Ida\n",
      "Sdycoff, Mr. Todor\n",
      "Hart, Mr. Henry\n",
      "Minahan, Miss. Daisy E\n",
      "Cunningham, Mr. Alfred Fleming\n",
      "Sundman, Mr. Johan Julian\n",
      "Meek, Mrs. Thomas (Annie Louise Rowley)\n",
      "Drew, Mrs. James Vivian (Lulu Thorne Christian)\n",
      "Silven, Miss. Lyyli Karoliina\n",
      "Matthews, Mr. William John\n",
      "Van Impe, Miss. Catharina\n",
      "Gheorgheff, Mr. Stanio\n",
      "Charters, Mr. David\n",
      "Zimmerman, Mr. Leo\n",
      "Danbom, Mrs. Ernst Gilbert (Anna Sigrid Maria Brogren)\n",
      "Rosblom, Mr. Viktor Richard\n",
      "Wiseman, Mr. Phillippe\n",
      "Clarke, Mrs. Charles V (Ada Maria Winfield)\n",
      "Phillips, Miss. Kate Florence (\"Mrs Kate Louise Phillips Marshall\")\n",
      "Flynn, Mr. James\n",
      "Pickard, Mr. Berk (Berk Trembisky)\n",
      "Bjornstrom-Steffansson, Mr. Mauritz Hakan\n",
      "Thorneycroft, Mrs. Percival (Florence Kate White)\n",
      "Louch, Mrs. Charles Alexander (Alice Adelaide Slow)\n",
      "Kallio, Mr. Nikolai Erland\n",
      "Silvey, Mr. William Baird\n",
      "Carter, Miss. Lucile Polk\n",
      "Ford, Miss. Doolina Margaret \"Daisy\"\n",
      "Richards, Mrs. Sidney (Emily Hocking)\n",
      "Fortune, Mr. Mark\n",
      "Kvillner, Mr. Johan Henrik Johannesson\n",
      "Hart, Mrs. Benjamin (Esther Ada Bloomfield)\n",
      "Hampe, Mr. Leon\n",
      "Petterson, Mr. Johan Emil\n",
      "Reynaldo, Ms. Encarnacion\n",
      "Johannesen-Bratthammer, Mr. Bernt\n",
      "Dodge, Master. Washington\n",
      "Mellinger, Miss. Madeleine Violet\n",
      "Seward, Mr. Frederic Kimber\n",
      "Baclini, Miss. Marie Catherine\n",
      "Peuchen, Major. Arthur Godfrey\n",
      "West, Mr. Edwy Arthur\n",
      "Hagland, Mr. Ingvald Olai Olsen\n",
      "Foreman, Mr. Benjamin Laventall\n",
      "Goldenberg, Mr. Samuel L\n",
      "Peduzzi, Mr. Joseph\n",
      "Jalsevac, Mr. Ivan\n",
      "Millet, Mr. Francis Davis\n",
      "Kenyon, Mrs. Frederick R (Marion)\n",
      "Toomey, Miss. Ellen\n",
      "O'Connor, Mr. Maurice\n",
      "Anderson, Mr. Harry\n",
      "Morley, Mr. William\n",
      "Gee, Mr. Arthur H\n",
      "Milling, Mr. Jacob Christian\n",
      "Maisner, Mr. Simon\n",
      "Goncalves, Mr. Manuel Estanslas\n",
      "Campbell, Mr. William\n",
      "Smart, Mr. John Montgomery\n",
      "Scanlan, Mr. James\n",
      "Baclini, Miss. Helene Barbara\n",
      "Keefe, Mr. Arthur\n",
      "Cacic, Mr. Luka\n",
      "West, Mrs. Edwy Arthur (Ada Mary Worth)\n",
      "Jerwan, Mrs. Amin S (Marie Marthe Thuillard)\n",
      "Strandberg, Miss. Ida Sofia\n",
      "Clifford, Mr. George Quincy\n",
      "Renouf, Mr. Peter Henry\n",
      "Braund, Mr. Lewis Richard\n",
      "Karlsson, Mr. Nils August\n",
      "Hirvonen, Miss. Hildur E\n",
      "Goodwin, Master. Harold Victor\n",
      "Frost, Mr. Anthony Wood \"Archie\"\n",
      "Rouse, Mr. Richard Henry\n",
      "Turkula, Mrs. (Hedwig)\n",
      "Bishop, Mr. Dickinson H\n",
      "Lefebre, Miss. Jeannie\n",
      "Hoyt, Mrs. Frederick Maxfield (Jane Anne Forby)\n",
      "Kent, Mr. Edward Austin\n",
      "Somerton, Mr. Francis William\n",
      "Coutts, Master. Eden Leslie \"Neville\"\n",
      "Hagland, Mr. Konrad Mathias Reiersen\n",
      "Windelov, Mr. Einar\n",
      "Molson, Mr. Harry Markland\n",
      "Artagaveytia, Mr. Ramon\n",
      "Stanley, Mr. Edward Roland\n",
      "Yousseff, Mr. Gerious\n",
      "Eustis, Miss. Elizabeth Mussey\n",
      "Shellard, Mr. Frederick William\n",
      "Allison, Mrs. Hudson J C (Bessie Waldo Daniels)\n",
      "Svensson, Mr. Olof\n",
      "Calic, Mr. Petar\n",
      "Canavan, Miss. Mary\n",
      "O'Sullivan, Miss. Bridget Mary\n",
      "Laitinen, Miss. Kristina Sofia\n",
      "Maioni, Miss. Roberta\n",
      "Penasco y Castellana, Mr. Victor de Satode\n",
      "Quick, Mrs. Frederick Charles (Jane Richards)\n",
      "Bradley, Mr. George (\"George Arthur Brayton\")\n",
      "Olsen, Mr. Henry Margido\n",
      "Lang, Mr. Fang\n",
      "Daly, Mr. Eugene Patrick\n",
      "Webber, Mr. James\n",
      "McGough, Mr. James Robert\n",
      "Rothschild, Mrs. Martin (Elizabeth L. Barrett)\n",
      "Coleff, Mr. Satio\n",
      "Walker, Mr. William Anderson\n",
      "Lemore, Mrs. (Amelia Milley)\n",
      "Ryan, Mr. Patrick\n",
      "Angle, Mrs. William A (Florence \"Mary\" Agnes Hughes)\n",
      "Pavlovic, Mr. Stefo\n",
      "Perreault, Miss. Anne\n",
      "Vovk, Mr. Janko\n",
      "Lahoud, Mr. Sarkis\n",
      "Hippach, Mrs. Louis Albert (Ida Sophia Fischer)\n",
      "Kassem, Mr. Fared\n",
      "Farrell, Mr. James\n",
      "Ridsdale, Miss. Lucy\n",
      "Farthing, Mr. John\n",
      "Salonen, Mr. Johan Werner\n",
      "Hocking, Mr. Richard George\n",
      "Quick, Miss. Phyllis May\n",
      "Toufik, Mr. Nakli\n",
      "Elias, Mr. Joseph Jr\n",
      "Peter, Mrs. Catherine (Catherine Rizk)\n",
      "Cacic, Miss. Marija\n",
      "Hart, Miss. Eva Miriam\n",
      "Butt, Major. Archibald Willingham\n",
      "LeRoy, Miss. Bertha\n",
      "Risien, Mr. Samuel Beard\n",
      "Frolicher, Miss. Hedwig Margaritha\n",
      "Crosby, Miss. Harriet R\n",
      "Andersson, Miss. Ingeborg Constanzia\n",
      "Andersson, Miss. Sigrid Elisabeth\n",
      "Beane, Mr. Edward\n",
      "Douglas, Mr. Walter Donald\n",
      "Nicholson, Mr. Arthur Ernest\n",
      "Beane, Mrs. Edward (Ethel Clarke)\n",
      "Padro y Manent, Mr. Julian\n",
      "Goldsmith, Mr. Frank John\n",
      "Davies, Master. John Morgan Jr\n",
      "Thayer, Mr. John Borland Jr\n",
      "Sharp, Mr. Percival James R\n",
      "O'Brien, Mr. Timothy\n",
      "Leeni, Mr. Fahim (\"Philip Zenni\")\n",
      "Ohman, Miss. Velin\n",
      "Wright, Mr. George\n",
      "Duff Gordon, Lady. (Lucille Christiana Sutherland) (\"Mrs Morgan\")\n",
      "Robbins, Mr. Victor\n",
      "Taussig, Mrs. Emil (Tillie Mandelbaum)\n",
      "de Messemaeker, Mrs. Guillaume Joseph (Emma)\n",
      "Morrow, Mr. Thomas Rowan\n",
      "Sivic, Mr. Husein\n",
      "Norman, Mr. Robert Douglas\n",
      "Simmons, Mr. John\n",
      "Meanwell, Miss. (Marion Ogden)\n",
      "Davies, Mr. Alfred J\n",
      "Stoytcheff, Mr. Ilia\n",
      "Palsson, Mrs. Nils (Alma Cornelia Berglund)\n",
      "Doharr, Mr. Tannous\n",
      "Jonsson, Mr. Carl\n",
      "Harris, Mr. George\n",
      "Appleton, Mrs. Edward Dale (Charlotte Lamson)\n",
      "Flynn, Mr. John Irwin (\"Irving\")\n",
      "Kelly, Miss. Mary\n",
      "Rush, Mr. Alfred George John\n",
      "Patchett, Mr. George\n",
      "Garside, Miss. Ethel\n",
      "Silvey, Mrs. William Baird (Alice Munger)\n",
      "Caram, Mrs. Joseph (Maria Elias)\n",
      "Jussila, Mr. Eiriik\n",
      "Christy, Miss. Julie Rachel\n",
      "Thayer, Mrs. John Borland (Marian Longstreth Morris)\n",
      "Downton, Mr. William James\n",
      "Ross, Mr. John Hugo\n",
      "Paulner, Mr. Uscher\n",
      "Taussig, Miss. Ruth\n",
      "Jarvis, Mr. John Denzil\n",
      "Frolicher-Stehli, Mr. Maxmillian\n",
      "Gilinski, Mr. Eliezer\n",
      "Murdlin, Mr. Joseph\n",
      "Rintamaki, Mr. Matti\n",
      "Stephenson, Mrs. Walter Bertram (Martha Eustis)\n",
      "Elsbury, Mr. William James\n",
      "Bourke, Miss. Mary\n",
      "Chapman, Mr. John Henry\n",
      "Van Impe, Mr. Jean Baptiste\n",
      "Leitch, Miss. Jessie Wills\n",
      "Johnson, Mr. Alfred\n",
      "Boulos, Mr. Hanna\n",
      "Duff Gordon, Sir. Cosmo Edmund (\"Mr Morgan\")\n",
      "Jacobsohn, Mrs. Sidney Samuel (Amy Frances Christy)\n",
      "Slabenoff, Mr. Petco\n",
      "Harrington, Mr. Charles H\n",
      "Torber, Mr. Ernst William\n",
      "Homer, Mr. Harry (\"Mr E Haven\")\n",
      "Lindell, Mr. Edvard Bengtsson\n",
      "Karaic, Mr. Milan\n",
      "Daniel, Mr. Robert Williams\n",
      "Laroche, Mrs. Joseph (Juliette Marie Louise Lafargue)\n",
      "Shutes, Miss. Elizabeth W\n",
      "Andersson, Mrs. Anders Johan (Alfrida Konstantia Brogren)\n",
      "Jardin, Mr. Jose Neto\n",
      "Murphy, Miss. Margaret Jane\n",
      "Horgan, Mr. John\n",
      "Brocklebank, Mr. William Alfred\n",
      "Herman, Miss. Alice\n",
      "Danbom, Mr. Ernst Gilbert\n",
      "Lobb, Mrs. William Arthur (Cordelia K Stanlick)\n",
      "Becker, Miss. Marion Louise\n",
      "Gavey, Mr. Lawrence\n",
      "Yasbeck, Mr. Antoni\n",
      "Kimball, Mr. Edwin Nelson Jr\n",
      "Nakid, Mr. Sahid\n",
      "Hansen, Mr. Henry Damsgaard\n",
      "Bowen, Mr. David John \"Dai\"\n",
      "Sutton, Mr. Frederick\n",
      "Kirkland, Rev. Charles Leonard\n",
      "Longley, Miss. Gretchen Fiske\n",
      "Bostandyeff, Mr. Guentcho\n",
      "O'Connell, Mr. Patrick D\n",
      "Barkworth, Mr. Algernon Henry Wilson\n",
      "Lundahl, Mr. Johan Svensson\n",
      "Stahelin-Maeglin, Dr. Max\n",
      "Parr, Mr. William Henry Marsh\n",
      "Skoog, Miss. Mabel\n",
      "Davis, Miss. Mary\n",
      "Leinonen, Mr. Antti Gustaf\n",
      "Collyer, Mr. Harvey\n",
      "Panula, Mrs. Juha (Maria Emilia Ojala)\n",
      "Thorneycroft, Mr. Percival\n",
      "Jensen, Mr. Hans Peder\n",
      "Sagesser, Mlle. Emma\n",
      "Skoog, Miss. Margit Elizabeth\n",
      "Foo, Mr. Choong\n",
      "Baclini, Miss. Eugenie\n",
      "Harper, Mr. Henry Sleeper\n",
      "Cor, Mr. Liudevit\n",
      "Simonius-Blumer, Col. Oberst Alfons\n",
      "Willey, Mr. Edward\n",
      "Stanley, Miss. Amy Zillah Elsie\n",
      "Mitkoff, Mr. Mito\n",
      "Doling, Miss. Elsie\n",
      "Kalvik, Mr. Johannes Halvorsen\n",
      "O'Leary, Miss. Hanora \"Norah\"\n",
      "Hegarty, Miss. Hanora \"Nora\"\n",
      "Hickman, Mr. Leonard Mark\n",
      "Radeff, Mr. Alexander\n",
      "Bourke, Mrs. John (Catherine)\n",
      "Eitemiller, Mr. George Floyd\n",
      "Newell, Mr. Arthur Webster\n",
      "Frauenthal, Dr. Henry William\n",
      "Badt, Mr. Mohamed\n",
      "Colley, Mr. Edward Pomeroy\n",
      "Coleff, Mr. Peju\n",
      "Lindqvist, Mr. Eino William\n",
      "Hickman, Mr. Lewis\n",
      "Butler, Mr. Reginald Fenton\n",
      "Rommetvedt, Mr. Knud Paust\n",
      "Cook, Mr. Jacob\n",
      "Taylor, Mrs. Elmer Zebley (Juliet Cummins Wright)\n",
      "Brown, Mrs. Thomas William Solomon (Elizabeth Catherine Ford)\n",
      "Davidson, Mr. Thornton\n",
      "Mitchell, Mr. Henry Michael\n",
      "Wilhelms, Mr. Charles\n",
      "Watson, Mr. Ennis Hastings\n",
      "Edvardsson, Mr. Gustaf Hjalmar\n",
      "Sawyer, Mr. Frederick Charles\n",
      "Turja, Miss. Anna Sofia\n",
      "Goodwin, Mrs. Frederick (Augusta Tyler)\n",
      "Cardeza, Mr. Thomas Drake Martinez\n",
      "Peters, Miss. Katie\n",
      "Hassab, Mr. Hammad\n",
      "Olsvigen, Mr. Thor Anderson\n",
      "Goodwin, Mr. Charles Edward\n",
      "Brown, Mr. Thomas William Solomon\n",
      "Laroche, Mr. Joseph Philippe Lemercier\n",
      "Panula, Mr. Jaako Arnold\n",
      "Dakic, Mr. Branko\n",
      "Fischer, Mr. Eberhard Thelander\n",
      "Madill, Miss. Georgette Alexandra\n",
      "Dick, Mr. Albert Adrian\n",
      "Karun, Miss. Manca\n",
      "Lam, Mr. Ali\n",
      "Saad, Mr. Khalil\n",
      "Weir, Col. John\n",
      "Chapman, Mr. Charles Henry\n",
      "Kelly, Mr. James\n",
      "Mullens, Miss. Katherine \"Katie\"\n",
      "Thayer, Mr. John Borland\n",
      "Humblen, Mr. Adolf Mathias Nicolai Olsen\n",
      "Astor, Mrs. John Jacob (Madeleine Talmadge Force)\n",
      "Silverthorne, Mr. Spencer Victor\n",
      "Barbara, Miss. Saiide\n",
      "Gallagher, Mr. Martin\n",
      "Hansen, Mr. Henrik Juul\n",
      "Morley, Mr. Henry Samuel (\"Mr Henry Marshall\")\n",
      "Kelly, Mrs. Florence \"Fannie\"\n",
      "Calderhead, Mr. Edward Pennington\n",
      "Cleaver, Miss. Alice\n",
      "Moubarek, Master. Halim Gonios (\"William George\")\n",
      "Mayne, Mlle. Berthe Antonine (\"Mrs de Villiers\")\n",
      "Klaber, Mr. Herman\n",
      "Taylor, Mr. Elmer Zebley\n",
      "Larsson, Mr. August Viktor\n",
      "Greenberg, Mr. Samuel\n",
      "Soholt, Mr. Peter Andreas Lauritz Andersen\n",
      "Endres, Miss. Caroline Louise\n",
      "Troutt, Miss. Edwina Celia \"Winnie\"\n",
      "McEvoy, Mr. Michael\n",
      "Johnson, Mr. Malkolm Joackim\n",
      "Harper, Miss. Annie Jessie \"Nina\"\n",
      "Jensen, Mr. Svend Lauritz\n",
      "Gillespie, Mr. William Henry\n",
      "Hodges, Mr. Henry Price\n",
      "Chambers, Mr. Norman Campbell\n",
      "Oreskovic, Mr. Luka\n",
      "Renouf, Mrs. Peter Henry (Lillian Jefferys)\n",
      "Mannion, Miss. Margareth\n",
      "Bryhl, Mr. Kurt Arnold Gottfrid\n",
      "Ilmakangas, Miss. Pieta Sofia\n",
      "Allen, Miss. Elisabeth Walton\n",
      "Hassan, Mr. Houssein G N\n",
      "Knight, Mr. Robert J\n",
      "Berriman, Mr. William John\n",
      "Troupiansky, Mr. Moses Aaron\n",
      "Williams, Mr. Leslie\n",
      "Ford, Mrs. Edward (Margaret Ann Watson)\n",
      "Lesurer, Mr. Gustave J\n",
      "Ivanoff, Mr. Kanio\n",
      "Nankoff, Mr. Minko\n",
      "Hawksford, Mr. Walter James\n",
      "Cavendish, Mr. Tyrell William\n",
      "Ryerson, Miss. Susan Parker \"Suzette\"\n",
      "McNamee, Mr. Neal\n",
      "Stranden, Mr. Juho\n",
      "Crosby, Capt. Edward Gifford\n",
      "Abbott, Mr. Rossmore Edward\n",
      "Sinkkonen, Miss. Anna\n",
      "Marvin, Mr. Daniel Warner\n",
      "Connaghton, Mr. Michael\n",
      "Wells, Miss. Joan\n",
      "Moor, Master. Meier\n",
      "Vande Velde, Mr. Johannes Joseph\n",
      "Jonkoff, Mr. Lalio\n",
      "Herman, Mrs. Samuel (Jane Laver)\n",
      "Hamalainen, Master. Viljo\n",
      "Carlsson, Mr. August Sigfrid\n",
      "Bailey, Mr. Percy Andrew\n",
      "Theobald, Mr. Thomas Leonard\n",
      "Rothes, the Countess. of (Lucy Noel Martha Dyer-Edwards)\n",
      "Garfirth, Mr. John\n",
      "Nirva, Mr. Iisakki Antino Aijo\n",
      "Barah, Mr. Hanna Assi\n",
      "Carter, Mrs. William Ernest (Lucile Polk)\n",
      "Eklund, Mr. Hans Linus\n",
      "Hogeboom, Mrs. John C (Anna Andrews)\n",
      "Brewe, Dr. Arthur Jackson\n",
      "Mangan, Miss. Mary\n",
      "Moran, Mr. Daniel J\n",
      "Gronnestad, Mr. Daniel Danielsen\n",
      "Lievens, Mr. Rene Aime\n",
      "Jensen, Mr. Niels Peder\n",
      "Mack, Mrs. (Mary)\n",
      "Elias, Mr. Dibo\n",
      "Hocking, Mrs. Elizabeth (Eliza Needs)\n",
      "Myhrman, Mr. Pehr Fabian Oliver Malkolm\n",
      "Tobin, Mr. Roger\n",
      "Emanuel, Miss. Virginia Ethel\n",
      "Kilgannon, Mr. Thomas J\n",
      "Robert, Mrs. Edward Scott (Elisabeth Walton McMillan)\n",
      "Ayoub, Miss. Banoura\n",
      "Dick, Mrs. Albert Adrian (Vera Gillespie)\n",
      "Long, Mr. Milton Clyde\n",
      "Johnston, Mr. Andrew G\n",
      "Ali, Mr. William\n",
      "Harmer, Mr. Abraham (David Lishin)\n",
      "Sjoblom, Miss. Anna Sofia\n",
      "Rice, Master. George Hugh\n",
      "Dean, Master. Bertram Vere\n",
      "Guggenheim, Mr. Benjamin\n",
      "Keane, Mr. Andrew \"Andy\"\n",
      "Gaskell, Mr. Alfred\n",
      "Sage, Miss. Stella Anna\n",
      "Hoyt, Mr. William Fisher\n",
      "Dantcheff, Mr. Ristiu\n",
      "Otter, Mr. Richard\n",
      "Leader, Dr. Alice (Farnham)\n",
      "Osman, Mrs. Mara\n",
      "Ibrahim Shawah, Mr. Yousseff\n",
      "Van Impe, Mrs. Jean Baptiste (Rosalie Paula Govaert)\n",
      "Ponesell, Mr. Martin\n",
      "Collyer, Mrs. Harvey (Charlotte Annie Tate)\n",
      "Carter, Master. William Thornton II\n",
      "Thomas, Master. Assad Alexander\n",
      "Hedman, Mr. Oskar Arvid\n",
      "Johansson, Mr. Karl Johan\n",
      "Andrews, Mr. Thomas Jr\n",
      "Pettersson, Miss. Ellen Natalia\n",
      "Meyer, Mr. August\n",
      "Chambers, Mrs. Norman Campbell (Bertha Griggs)\n",
      "Alexander, Mr. William\n",
      "Lester, Mr. James\n",
      "Slemen, Mr. Richard James\n",
      "Andersson, Miss. Ebba Iris Alfrida\n",
      "Tomlin, Mr. Ernest Portage\n",
      "Fry, Mr. Richard\n",
      "Heininen, Miss. Wendla Maria\n",
      "Mallet, Mr. Albert\n",
      "Holm, Mr. John Fredrik Alexander\n",
      "Skoog, Master. Karl Thorsten\n",
      "Hays, Mrs. Charles Melville (Clara Jennings Gregg)\n",
      "Lulic, Mr. Nikola\n",
      "Reuchlin, Jonkheer. John George\n",
      "Moor, Mrs. (Beila)\n",
      "Panula, Master. Urho Abraham\n",
      "Flynn, Mr. John\n",
      "Lam, Mr. Len\n",
      "Mallet, Master. Andre\n",
      "McCormack, Mr. Thomas Joseph\n",
      "Stone, Mrs. George Nelson (Martha Evelyn)\n",
      "Yasbeck, Mrs. Antoni (Selini Alexander)\n",
      "Richards, Master. George Sibley\n",
      "Saad, Mr. Amin\n",
      "Augustsson, Mr. Albert\n",
      "Allum, Mr. Owen George\n",
      "Compton, Miss. Sara Rebecca\n",
      "Pasic, Mr. Jakob\n",
      "Sirota, Mr. Maurice\n",
      "Chip, Mr. Chang\n",
      "Marechal, Mr. Pierre\n",
      "Alhomaki, Mr. Ilmari Rudolf\n",
      "Mudd, Mr. Thomas Charles\n",
      "Serepeca, Miss. Augusta\n",
      "Lemberopolous, Mr. Peter L\n",
      "Culumovic, Mr. Jeso\n",
      "Abbing, Mr. Anthony\n",
      "Sage, Mr. Douglas Bullen\n",
      "Markoff, Mr. Marin\n",
      "Harper, Rev. John\n",
      "Goldenberg, Mrs. Samuel L (Edwiga Grabowska)\n",
      "Andersson, Master. Sigvard Harald Elias\n",
      "Svensson, Mr. Johan\n",
      "Boulos, Miss. Nourelain\n",
      "Lines, Miss. Mary Conover\n",
      "Carter, Mrs. Ernest Courtenay (Lilian Hughes)\n",
      "Aks, Mrs. Sam (Leah Rosen)\n",
      "Wick, Mrs. George Dennick (Mary Hitchcock)\n",
      "Daly, Mr. Peter Denis \n",
      "Baclini, Mrs. Solomon (Latifa Qurban)\n",
      "Razi, Mr. Raihed\n",
      "Hansen, Mr. Claus Peter\n",
      "Giles, Mr. Frederick Edward\n",
      "Swift, Mrs. Frederick Joel (Margaret Welles Barron)\n",
      "Sage, Miss. Dorothy Edith \"Dolly\"\n",
      "Gill, Mr. John William\n",
      "Bystrom, Mrs. (Karolina)\n",
      "Duran y More, Miss. Asuncion\n",
      "Roebling, Mr. Washington Augustus II\n",
      "van Melkebeke, Mr. Philemon\n",
      "Johnson, Master. Harold Theodor\n",
      "Balkic, Mr. Cerin\n",
      "Beckwith, Mrs. Richard Leonard (Sallie Monypeny)\n",
      "Carlsson, Mr. Frans Olof\n",
      "Vander Cruyssen, Mr. Victor\n",
      "Abelson, Mrs. Samuel (Hannah Wizosky)\n",
      "Najib, Miss. Adele Kiamie \"Jane\"\n",
      "Gustafsson, Mr. Alfred Ossian\n",
      "Petroff, Mr. Nedelio\n",
      "Laleff, Mr. Kristo\n",
      "Potter, Mrs. Thomas Jr (Lily Alexenia Wilson)\n",
      "Shelley, Mrs. William (Imanita Parrish Hall)\n",
      "Markun, Mr. Johann\n",
      "Dahlberg, Miss. Gerda Ulrika\n",
      "Banfield, Mr. Frederick James\n",
      "Sutehall, Mr. Henry Jr\n",
      "Rice, Mrs. William (Margaret Norton)\n",
      "Montvila, Rev. Juozas\n",
      "Graham, Miss. Margaret Edith\n",
      "Johnston, Miss. Catherine Helen \"Carrie\"\n",
      "Behr, Mr. Karl Howell\n",
      "Dooley, Mr. Patrick\n"
     ]
    }
   ],
   "source": [
    "import csv\n",
    "fname = 'train.csv'\n",
    "\n",
    "with open(fname,'r')as f:\n",
    "    data_reader =csv.reader(f,delimiter=',')\n",
    "    header =next(data_reader)\n",
    "    print \"Header=\"+str(header)\n",
    "    \n",
    "    for line in data_reader:\n",
    "        print line[3]"
   ]
  },
  {
   "cell_type": "markdown",
   "metadata": {},
   "source": [
    "- **Survived**: Outcome of survival (0 = No; 1 = Yes)\n",
    "- **Pclass**: Socio-economic class (1 = Upper class; 2 = Middle class; 3 = Lower class)\n",
    "- **Name**: Name of passenger\n",
    "- **Sex**: Sex of the passenger\n",
    "- **Age**: Age of the passenger (Some entries contain `NaN`)\n",
    "- **SibSp**: Number of siblings and spouses of the passenger aboard\n",
    "- **Parch**: Number of parents and children of the passenger aboard\n",
    "- **Ticket**: Ticket number of the passenger\n",
    "- **Fare**: Fare paid by the passenger\n",
    "- **Cabin** Cabin number of the passenger (Some entries contain `NaN`)\n",
    "- **Embarked**: Port of embarkation of the passenger (C = Cherbourg; Q = Queenstown; S = Southampton)"
   ]
  },
  {
   "cell_type": "code",
   "execution_count": 6,
   "metadata": {},
   "outputs": [
    {
     "data": {
      "text/plain": [
       "(891, 891)"
      ]
     },
     "execution_count": 6,
     "metadata": {},
     "output_type": "execute_result"
    }
   ],
   "source": [
    "len(data),data.PassengerId.max()"
   ]
  },
  {
   "cell_type": "markdown",
   "metadata": {},
   "source": [
    "### Missing Data"
   ]
  },
  {
   "cell_type": "code",
   "execution_count": 3,
   "metadata": {},
   "outputs": [
    {
     "data": {
      "text/plain": [
       "PassengerId    891\n",
       "Survived       891\n",
       "Pclass         891\n",
       "Name           891\n",
       "Sex            891\n",
       "Age            714\n",
       "SibSp          891\n",
       "Parch          891\n",
       "Ticket         891\n",
       "Fare           891\n",
       "Cabin          204\n",
       "Embarked       889\n",
       "dtype: int64"
      ]
     },
     "execution_count": 3,
     "metadata": {},
     "output_type": "execute_result"
    }
   ],
   "source": [
    "data.count()"
   ]
  },
  {
   "cell_type": "markdown",
   "metadata": {},
   "source": [
    "### Survival Level"
   ]
  },
  {
   "cell_type": "code",
   "execution_count": 4,
   "metadata": {},
   "outputs": [
    {
     "data": {
      "text/plain": [
       "0    549\n",
       "1    342\n",
       "Name: Survived, dtype: int64"
      ]
     },
     "execution_count": 4,
     "metadata": {},
     "output_type": "execute_result"
    }
   ],
   "source": [
    "data['Survived'].value_counts()"
   ]
  },
  {
   "cell_type": "code",
   "execution_count": 6,
   "metadata": {},
   "outputs": [
    {
     "data": {
      "text/plain": [
       "0    61.616162\n",
       "1    38.383838\n",
       "Name: Survived, dtype: float64"
      ]
     },
     "execution_count": 6,
     "metadata": {},
     "output_type": "execute_result"
    }
   ],
   "source": [
    "data['Survived'].value_counts()*100/len(data)"
   ]
  },
  {
   "cell_type": "code",
   "execution_count": 8,
   "metadata": {},
   "outputs": [
    {
     "data": {
      "image/png": "[encoded data removed]",
      "text/plain": [
       "<Figure size 1296x576 with 2 Axes>"
      ]
     },
     "metadata": {
      "needs_background": "light"
     },
     "output_type": "display_data"
    }
   ],
   "source": [
    "f,ax=plt.subplots(1,2,figsize=(18,8))\n",
    "data['Survived'].value_counts().plot.pie(explode=[0,0.1],autopct='%1.1f%%',ax=ax[0],shadow=True)\n",
    "ax[0].set_title('Survived')\n",
    "ax[0].set_ylabel('')\n",
    "sns.countplot('Survived',data=data,ax=ax[1])\n",
    "ax[1].set_title('Survived')\n",
    "plt.show()"
   ]
  },
  {
   "cell_type": "markdown",
   "metadata": {},
   "source": [
    "### Feature Analysis"
   ]
  },
  {
   "cell_type": "code",
   "execution_count": 7,
   "metadata": {},
   "outputs": [
    {
     "data": {
      "text/plain": [
       "male      577\n",
       "female    314\n",
       "Name: Sex, dtype: int64"
      ]
     },
     "execution_count": 7,
     "metadata": {},
     "output_type": "execute_result"
    }
   ],
   "source": [
    "data['Sex'].value_counts()"
   ]
  },
  {
   "cell_type": "code",
   "execution_count": 8,
   "metadata": {},
   "outputs": [
    {
     "data": {
      "text/plain": [
       "Sex     Survived\n",
       "female  0            81\n",
       "        1           233\n",
       "male    0           468\n",
       "        1           109\n",
       "Name: Survived, dtype: int64"
      ]
     },
     "execution_count": 8,
     "metadata": {},
     "output_type": "execute_result"
    }
   ],
   "source": [
    "data.groupby(['Sex','Survived'])['Survived'].count()"
   ]
  },
  {
   "cell_type": "code",
   "execution_count": 9,
   "metadata": {},
   "outputs": [
    {
     "data": {
      "text/html": [
       "<div>\n",
       "<style scoped>\n",
       "    .dataframe tbody tr th:only-of-type {\n",
       "        vertical-align: middle;\n",
       "    }\n",
       "\n",
       "    .dataframe tbody tr th {\n",
       "        vertical-align: top;\n",
       "    }\n",
       "\n",
       "    .dataframe thead th {\n",
       "        text-align: right;\n",
       "    }\n",
       "</style>\n",
       "<table border=\"1\" class=\"dataframe\">\n",
       "  <thead>\n",
       "    <tr style=\"text-align: right;\">\n",
       "      <th></th>\n",
       "      <th>Survived</th>\n",
       "    </tr>\n",
       "    <tr>\n",
       "      <th>Sex</th>\n",
       "      <th></th>\n",
       "    </tr>\n",
       "  </thead>\n",
       "  <tbody>\n",
       "    <tr>\n",
       "      <th>female</th>\n",
       "      <td>0.742038</td>\n",
       "    </tr>\n",
       "    <tr>\n",
       "      <th>male</th>\n",
       "      <td>0.188908</td>\n",
       "    </tr>\n",
       "  </tbody>\n",
       "</table>\n",
       "</div>"
      ],
      "text/plain": [
       "        Survived\n",
       "Sex             \n",
       "female  0.742038\n",
       "male    0.188908"
      ]
     },
     "execution_count": 9,
     "metadata": {},
     "output_type": "execute_result"
    }
   ],
   "source": [
    "data[['Sex','Survived']].groupby(['Sex']).mean()"
   ]
  },
  {
   "cell_type": "code",
   "execution_count": 26,
   "metadata": {},
   "outputs": [
    {
     "data": {
      "image/png": "[encoded data removed]",
      "text/plain": [
       "<Figure size 1296x576 with 2 Axes>"
      ]
     },
     "metadata": {
      "needs_background": "light"
     },
     "output_type": "display_data"
    }
   ],
   "source": [
    "f,ax=plt.subplots(1,2,figsize=(18,8))\n",
    "data[['Sex','Survived']].groupby(['Sex']).mean().plot.bar(ax=ax[0])\n",
    "ax[0].set_title('Survived vs Sex')\n",
    "sns.countplot('Sex',hue='Survived',data=data,ax=ax[1])\n",
    "ax[1].set_title('Sex:Survived vs Dead')\n",
    "plt.show()"
   ]
  },
  {
   "cell_type": "code",
   "execution_count": 27,
   "metadata": {},
   "outputs": [
    {
     "data": {
      "text/plain": [
       "3    491\n",
       "1    216\n",
       "2    184\n",
       "Name: Pclass, dtype: int64"
      ]
     },
     "execution_count": 27,
     "metadata": {},
     "output_type": "execute_result"
    }
   ],
   "source": [
    "data['Pclass'].value_counts()"
   ]
  },
  {
   "cell_type": "code",
   "execution_count": 28,
   "metadata": {},
   "outputs": [
    {
     "data": {
      "text/html": [
       "<div>\n",
       "<style scoped>\n",
       "    .dataframe tbody tr th:only-of-type {\n",
       "        vertical-align: middle;\n",
       "    }\n",
       "\n",
       "    .dataframe tbody tr th {\n",
       "        vertical-align: top;\n",
       "    }\n",
       "\n",
       "    .dataframe thead th {\n",
       "        text-align: right;\n",
       "    }\n",
       "</style>\n",
       "<table border=\"1\" class=\"dataframe\">\n",
       "  <thead>\n",
       "    <tr style=\"text-align: right;\">\n",
       "      <th>Survived</th>\n",
       "      <th>0</th>\n",
       "      <th>1</th>\n",
       "      <th>All</th>\n",
       "    </tr>\n",
       "    <tr>\n",
       "      <th>Pclass</th>\n",
       "      <th></th>\n",
       "      <th></th>\n",
       "      <th></th>\n",
       "    </tr>\n",
       "  </thead>\n",
       "  <tbody>\n",
       "    <tr>\n",
       "      <th>1</th>\n",
       "      <td>80</td>\n",
       "      <td>136</td>\n",
       "      <td>216</td>\n",
       "    </tr>\n",
       "    <tr>\n",
       "      <th>2</th>\n",
       "      <td>97</td>\n",
       "      <td>87</td>\n",
       "      <td>184</td>\n",
       "    </tr>\n",
       "    <tr>\n",
       "      <th>3</th>\n",
       "      <td>372</td>\n",
       "      <td>119</td>\n",
       "      <td>491</td>\n",
       "    </tr>\n",
       "    <tr>\n",
       "      <th>All</th>\n",
       "      <td>549</td>\n",
       "      <td>342</td>\n",
       "      <td>891</td>\n",
       "    </tr>\n",
       "  </tbody>\n",
       "</table>\n",
       "</div>"
      ],
      "text/plain": [
       "Survived    0    1  All\n",
       "Pclass                 \n",
       "1          80  136  216\n",
       "2          97   87  184\n",
       "3         372  119  491\n",
       "All       549  342  891"
      ]
     },
     "execution_count": 28,
     "metadata": {},
     "output_type": "execute_result"
    }
   ],
   "source": [
    "pd.crosstab(data.Pclass,data.Survived,margins=True)"
   ]
  },
  {
   "cell_type": "code",
   "execution_count": 32,
   "metadata": {},
   "outputs": [
    {
     "data": {
      "text/html": [
       "<style  type=\"text/css\" >\n",
       "    #T_6c892d91_21fe_11e9_8f64_9c02d6e07f5brow0_col0 {\n",
       "            background-color:  #ffff66;\n",
       "        }    #T_6c892d91_21fe_11e9_8f64_9c02d6e07f5brow0_col1 {\n",
       "            background-color:  #cee666;\n",
       "        }    #T_6c892d91_21fe_11e9_8f64_9c02d6e07f5brow0_col2 {\n",
       "            background-color:  #f4fa66;\n",
       "        }    #T_6c892d91_21fe_11e9_8f64_9c02d6e07f5brow1_col0 {\n",
       "            background-color:  #f6fa66;\n",
       "        }    #T_6c892d91_21fe_11e9_8f64_9c02d6e07f5brow1_col1 {\n",
       "            background-color:  #ffff66;\n",
       "        }    #T_6c892d91_21fe_11e9_8f64_9c02d6e07f5brow1_col2 {\n",
       "            background-color:  #ffff66;\n",
       "        }    #T_6c892d91_21fe_11e9_8f64_9c02d6e07f5brow2_col0 {\n",
       "            background-color:  #60b066;\n",
       "        }    #T_6c892d91_21fe_11e9_8f64_9c02d6e07f5brow2_col1 {\n",
       "            background-color:  #dfef66;\n",
       "        }    #T_6c892d91_21fe_11e9_8f64_9c02d6e07f5brow2_col2 {\n",
       "            background-color:  #90c866;\n",
       "        }    #T_6c892d91_21fe_11e9_8f64_9c02d6e07f5brow3_col0 {\n",
       "            background-color:  #008066;\n",
       "        }    #T_6c892d91_21fe_11e9_8f64_9c02d6e07f5brow3_col1 {\n",
       "            background-color:  #008066;\n",
       "        }    #T_6c892d91_21fe_11e9_8f64_9c02d6e07f5brow3_col2 {\n",
       "            background-color:  #008066;\n",
       "        }</style>  \n",
       "<table id=\"T_6c892d91_21fe_11e9_8f64_9c02d6e07f5b\" > \n",
       "<thead>    <tr> \n",
       "        <th class=\"index_name level0\" >Survived</th> \n",
       "        <th class=\"col_heading level0 col0\" >0</th> \n",
       "        <th class=\"col_heading level0 col1\" >1</th> \n",
       "        <th class=\"col_heading level0 col2\" >All</th> \n",
       "    </tr>    <tr> \n",
       "        <th class=\"index_name level0\" >Pclass</th> \n",
       "        <th class=\"blank\" ></th> \n",
       "        <th class=\"blank\" ></th> \n",
       "        <th class=\"blank\" ></th> \n",
       "    </tr></thead> \n",
       "<tbody>    <tr> \n",
       "        <th id=\"T_6c892d91_21fe_11e9_8f64_9c02d6e07f5blevel0_row0\" class=\"row_heading level0 row0\" >1</th> \n",
       "        <td id=\"T_6c892d91_21fe_11e9_8f64_9c02d6e07f5brow0_col0\" class=\"data row0 col0\" >80</td> \n",
       "        <td id=\"T_6c892d91_21fe_11e9_8f64_9c02d6e07f5brow0_col1\" class=\"data row0 col1\" >136</td> \n",
       "        <td id=\"T_6c892d91_21fe_11e9_8f64_9c02d6e07f5brow0_col2\" class=\"data row0 col2\" >216</td> \n",
       "    </tr>    <tr> \n",
       "        <th id=\"T_6c892d91_21fe_11e9_8f64_9c02d6e07f5blevel0_row1\" class=\"row_heading level0 row1\" >2</th> \n",
       "        <td id=\"T_6c892d91_21fe_11e9_8f64_9c02d6e07f5brow1_col0\" class=\"data row1 col0\" >97</td> \n",
       "        <td id=\"T_6c892d91_21fe_11e9_8f64_9c02d6e07f5brow1_col1\" class=\"data row1 col1\" >87</td> \n",
       "        <td id=\"T_6c892d91_21fe_11e9_8f64_9c02d6e07f5brow1_col2\" class=\"data row1 col2\" >184</td> \n",
       "    </tr>    <tr> \n",
       "        <th id=\"T_6c892d91_21fe_11e9_8f64_9c02d6e07f5blevel0_row2\" class=\"row_heading level0 row2\" >3</th> \n",
       "        <td id=\"T_6c892d91_21fe_11e9_8f64_9c02d6e07f5brow2_col0\" class=\"data row2 col0\" >372</td> \n",
       "        <td id=\"T_6c892d91_21fe_11e9_8f64_9c02d6e07f5brow2_col1\" class=\"data row2 col1\" >119</td> \n",
       "        <td id=\"T_6c892d91_21fe_11e9_8f64_9c02d6e07f5brow2_col2\" class=\"data row2 col2\" >491</td> \n",
       "    </tr>    <tr> \n",
       "        <th id=\"T_6c892d91_21fe_11e9_8f64_9c02d6e07f5blevel0_row3\" class=\"row_heading level0 row3\" >All</th> \n",
       "        <td id=\"T_6c892d91_21fe_11e9_8f64_9c02d6e07f5brow3_col0\" class=\"data row3 col0\" >549</td> \n",
       "        <td id=\"T_6c892d91_21fe_11e9_8f64_9c02d6e07f5brow3_col1\" class=\"data row3 col1\" >342</td> \n",
       "        <td id=\"T_6c892d91_21fe_11e9_8f64_9c02d6e07f5brow3_col2\" class=\"data row3 col2\" >891</td> \n",
       "    </tr></tbody> \n",
       "</table> "
      ],
      "text/plain": [
       "<pandas.io.formats.style.Styler at 0x10746e80>"
      ]
     },
     "execution_count": 32,
     "metadata": {},
     "output_type": "execute_result"
    }
   ],
   "source": [
    "pd.crosstab(data.Pclass,data.Survived,margins=True).style.background_gradient(cmap='summer_r')"
   ]
  },
  {
   "cell_type": "code",
   "execution_count": 36,
   "metadata": {},
   "outputs": [
    {
     "data": {
      "text/html": [
       "<style  type=\"text/css\" >\n",
       "    #T_99f09a0f_21ff_11e9_a48f_9c02d6e07f5brow0_col0 {\n",
       "            background-color:  #e5ffe5;\n",
       "        }    #T_99f09a0f_21ff_11e9_a48f_9c02d6e07f5brow0_col1 {\n",
       "            background-color:  #b9e7b9;\n",
       "        }    #T_99f09a0f_21ff_11e9_a48f_9c02d6e07f5brow0_col2 {\n",
       "            background-color:  #dcfadc;\n",
       "        }    #T_99f09a0f_21ff_11e9_a48f_9c02d6e07f5brow1_col0 {\n",
       "            background-color:  #ddfbdd;\n",
       "        }    #T_99f09a0f_21ff_11e9_a48f_9c02d6e07f5brow1_col1 {\n",
       "            background-color:  #e5ffe5;\n",
       "        }    #T_99f09a0f_21ff_11e9_a48f_9c02d6e07f5brow1_col2 {\n",
       "            background-color:  #e5ffe5;\n",
       "        }    #T_99f09a0f_21ff_11e9_a48f_9c02d6e07f5brow2_col0 {\n",
       "            background-color:  #56b056;\n",
       "        }    #T_99f09a0f_21ff_11e9_a48f_9c02d6e07f5brow2_col1 {\n",
       "            background-color:  #c9efc9;\n",
       "        }    #T_99f09a0f_21ff_11e9_a48f_9c02d6e07f5brow2_col2 {\n",
       "            background-color:  #82c882;\n",
       "        }    #T_99f09a0f_21ff_11e9_a48f_9c02d6e07f5brow3_col0 {\n",
       "            background-color:  #008000;\n",
       "        }    #T_99f09a0f_21ff_11e9_a48f_9c02d6e07f5brow3_col1 {\n",
       "            background-color:  #008000;\n",
       "        }    #T_99f09a0f_21ff_11e9_a48f_9c02d6e07f5brow3_col2 {\n",
       "            background-color:  #008000;\n",
       "        }</style>  \n",
       "<table id=\"T_99f09a0f_21ff_11e9_a48f_9c02d6e07f5b\" > \n",
       "<thead>    <tr> \n",
       "        <th class=\"index_name level0\" >Survived</th> \n",
       "        <th class=\"col_heading level0 col0\" >0</th> \n",
       "        <th class=\"col_heading level0 col1\" >1</th> \n",
       "        <th class=\"col_heading level0 col2\" >All</th> \n",
       "    </tr>    <tr> \n",
       "        <th class=\"index_name level0\" >Pclass</th> \n",
       "        <th class=\"blank\" ></th> \n",
       "        <th class=\"blank\" ></th> \n",
       "        <th class=\"blank\" ></th> \n",
       "    </tr></thead> \n",
       "<tbody>    <tr> \n",
       "        <th id=\"T_99f09a0f_21ff_11e9_a48f_9c02d6e07f5blevel0_row0\" class=\"row_heading level0 row0\" >1</th> \n",
       "        <td id=\"T_99f09a0f_21ff_11e9_a48f_9c02d6e07f5brow0_col0\" class=\"data row0 col0\" >80</td> \n",
       "        <td id=\"T_99f09a0f_21ff_11e9_a48f_9c02d6e07f5brow0_col1\" class=\"data row0 col1\" >136</td> \n",
       "        <td id=\"T_99f09a0f_21ff_11e9_a48f_9c02d6e07f5brow0_col2\" class=\"data row0 col2\" >216</td> \n",
       "    </tr>    <tr> \n",
       "        <th id=\"T_99f09a0f_21ff_11e9_a48f_9c02d6e07f5blevel0_row1\" class=\"row_heading level0 row1\" >2</th> \n",
       "        <td id=\"T_99f09a0f_21ff_11e9_a48f_9c02d6e07f5brow1_col0\" class=\"data row1 col0\" >97</td> \n",
       "        <td id=\"T_99f09a0f_21ff_11e9_a48f_9c02d6e07f5brow1_col1\" class=\"data row1 col1\" >87</td> \n",
       "        <td id=\"T_99f09a0f_21ff_11e9_a48f_9c02d6e07f5brow1_col2\" class=\"data row1 col2\" >184</td> \n",
       "    </tr>    <tr> \n",
       "        <th id=\"T_99f09a0f_21ff_11e9_a48f_9c02d6e07f5blevel0_row2\" class=\"row_heading level0 row2\" >3</th> \n",
       "        <td id=\"T_99f09a0f_21ff_11e9_a48f_9c02d6e07f5brow2_col0\" class=\"data row2 col0\" >372</td> \n",
       "        <td id=\"T_99f09a0f_21ff_11e9_a48f_9c02d6e07f5brow2_col1\" class=\"data row2 col1\" >119</td> \n",
       "        <td id=\"T_99f09a0f_21ff_11e9_a48f_9c02d6e07f5brow2_col2\" class=\"data row2 col2\" >491</td> \n",
       "    </tr>    <tr> \n",
       "        <th id=\"T_99f09a0f_21ff_11e9_a48f_9c02d6e07f5blevel0_row3\" class=\"row_heading level0 row3\" >All</th> \n",
       "        <td id=\"T_99f09a0f_21ff_11e9_a48f_9c02d6e07f5brow3_col0\" class=\"data row3 col0\" >549</td> \n",
       "        <td id=\"T_99f09a0f_21ff_11e9_a48f_9c02d6e07f5brow3_col1\" class=\"data row3 col1\" >342</td> \n",
       "        <td id=\"T_99f09a0f_21ff_11e9_a48f_9c02d6e07f5brow3_col2\" class=\"data row3 col2\" >891</td> \n",
       "    </tr></tbody> \n",
       "</table> "
      ],
      "text/plain": [
       "<pandas.io.formats.style.Styler at 0x7e00358>"
      ]
     },
     "execution_count": 36,
     "metadata": {},
     "output_type": "execute_result"
    }
   ],
   "source": [
    "cm = sns.light_palette(\"green\", as_cmap=True)\n",
    "\n",
    "pd.crosstab(data.Pclass,data.Survived,margins=True).style.background_gradient(cmap=cm)"
   ]
  },
  {
   "cell_type": "markdown",
   "metadata": {},
   "source": [
    "https://pandas.pydata.org/pandas-docs/stable/style.html"
   ]
  },
  {
   "cell_type": "code",
   "execution_count": 37,
   "metadata": {},
   "outputs": [
    {
     "data": {
      "image/png": "[encoded data removed]",
      "text/plain": [
       "<Figure size 1296x576 with 2 Axes>"
      ]
     },
     "metadata": {
      "needs_background": "light"
     },
     "output_type": "display_data"
    }
   ],
   "source": [
    "f,ax=plt.subplots(1,2,figsize=(18,8))\n",
    "data['Pclass'].value_counts().sort_index().plot.bar(color=['#CD7F32','#FFDF00','#D3D3D3'],ax=ax[0])\n",
    "ax[0].set_title('Number Of Passengers By Pclass')\n",
    "ax[0].set_ylabel('Count')\n",
    "sns.countplot('Pclass',hue='Survived',data=data,ax=ax[1])\n",
    "ax[1].set_title('Pclass:Survived vs Dead')\n",
    "plt.show()"
   ]
  },
  {
   "cell_type": "code",
   "execution_count": 38,
   "metadata": {},
   "outputs": [
    {
     "data": {
      "text/html": [
       "<style  type=\"text/css\" >\n",
       "    #T_03c2fc61_2202_11e9_8bb4_9c02d6e07f5brow0_col0 {\n",
       "            background-color:  #ffff66;\n",
       "        }    #T_03c2fc61_2202_11e9_8bb4_9c02d6e07f5brow0_col1 {\n",
       "            background-color:  #ffff66;\n",
       "        }    #T_03c2fc61_2202_11e9_8bb4_9c02d6e07f5brow0_col2 {\n",
       "            background-color:  #f1f866;\n",
       "        }    #T_03c2fc61_2202_11e9_8bb4_9c02d6e07f5brow0_col3 {\n",
       "            background-color:  #ffff66;\n",
       "        }    #T_03c2fc61_2202_11e9_8bb4_9c02d6e07f5brow1_col0 {\n",
       "            background-color:  #96cb66;\n",
       "        }    #T_03c2fc61_2202_11e9_8bb4_9c02d6e07f5brow1_col1 {\n",
       "            background-color:  #a3d166;\n",
       "        }    #T_03c2fc61_2202_11e9_8bb4_9c02d6e07f5brow1_col2 {\n",
       "            background-color:  #f1f866;\n",
       "        }    #T_03c2fc61_2202_11e9_8bb4_9c02d6e07f5brow1_col3 {\n",
       "            background-color:  #cfe766;\n",
       "        }    #T_03c2fc61_2202_11e9_8bb4_9c02d6e07f5brow2_col0 {\n",
       "            background-color:  #a7d366;\n",
       "        }    #T_03c2fc61_2202_11e9_8bb4_9c02d6e07f5brow2_col1 {\n",
       "            background-color:  #85c266;\n",
       "        }    #T_03c2fc61_2202_11e9_8bb4_9c02d6e07f5brow2_col2 {\n",
       "            background-color:  #6eb666;\n",
       "        }    #T_03c2fc61_2202_11e9_8bb4_9c02d6e07f5brow2_col3 {\n",
       "            background-color:  #85c266;\n",
       "        }    #T_03c2fc61_2202_11e9_8bb4_9c02d6e07f5brow3_col0 {\n",
       "            background-color:  #cde666;\n",
       "        }    #T_03c2fc61_2202_11e9_8bb4_9c02d6e07f5brow3_col1 {\n",
       "            background-color:  #f0f866;\n",
       "        }    #T_03c2fc61_2202_11e9_8bb4_9c02d6e07f5brow3_col2 {\n",
       "            background-color:  #ffff66;\n",
       "        }    #T_03c2fc61_2202_11e9_8bb4_9c02d6e07f5brow3_col3 {\n",
       "            background-color:  #f7fb66;\n",
       "        }    #T_03c2fc61_2202_11e9_8bb4_9c02d6e07f5brow4_col0 {\n",
       "            background-color:  #008066;\n",
       "        }    #T_03c2fc61_2202_11e9_8bb4_9c02d6e07f5brow4_col1 {\n",
       "            background-color:  #008066;\n",
       "        }    #T_03c2fc61_2202_11e9_8bb4_9c02d6e07f5brow4_col2 {\n",
       "            background-color:  #008066;\n",
       "        }    #T_03c2fc61_2202_11e9_8bb4_9c02d6e07f5brow4_col3 {\n",
       "            background-color:  #008066;\n",
       "        }</style>  \n",
       "<table id=\"T_03c2fc61_2202_11e9_8bb4_9c02d6e07f5b\" > \n",
       "<thead>    <tr> \n",
       "        <th class=\"blank\" ></th> \n",
       "        <th class=\"index_name level0\" >Pclass</th> \n",
       "        <th class=\"col_heading level0 col0\" >1</th> \n",
       "        <th class=\"col_heading level0 col1\" >2</th> \n",
       "        <th class=\"col_heading level0 col2\" >3</th> \n",
       "        <th class=\"col_heading level0 col3\" >All</th> \n",
       "    </tr>    <tr> \n",
       "        <th class=\"index_name level0\" >Sex</th> \n",
       "        <th class=\"index_name level1\" >Survived</th> \n",
       "        <th class=\"blank\" ></th> \n",
       "        <th class=\"blank\" ></th> \n",
       "        <th class=\"blank\" ></th> \n",
       "        <th class=\"blank\" ></th> \n",
       "    </tr></thead> \n",
       "<tbody>    <tr> \n",
       "        <th id=\"T_03c2fc61_2202_11e9_8bb4_9c02d6e07f5blevel0_row0\" class=\"row_heading level0 row0\" rowspan=2>female</th> \n",
       "        <th id=\"T_03c2fc61_2202_11e9_8bb4_9c02d6e07f5blevel1_row0\" class=\"row_heading level1 row0\" >0</th> \n",
       "        <td id=\"T_03c2fc61_2202_11e9_8bb4_9c02d6e07f5brow0_col0\" class=\"data row0 col0\" >3</td> \n",
       "        <td id=\"T_03c2fc61_2202_11e9_8bb4_9c02d6e07f5brow0_col1\" class=\"data row0 col1\" >6</td> \n",
       "        <td id=\"T_03c2fc61_2202_11e9_8bb4_9c02d6e07f5brow0_col2\" class=\"data row0 col2\" >72</td> \n",
       "        <td id=\"T_03c2fc61_2202_11e9_8bb4_9c02d6e07f5brow0_col3\" class=\"data row0 col3\" >81</td> \n",
       "    </tr>    <tr> \n",
       "        <th id=\"T_03c2fc61_2202_11e9_8bb4_9c02d6e07f5blevel1_row1\" class=\"row_heading level1 row1\" >1</th> \n",
       "        <td id=\"T_03c2fc61_2202_11e9_8bb4_9c02d6e07f5brow1_col0\" class=\"data row1 col0\" >91</td> \n",
       "        <td id=\"T_03c2fc61_2202_11e9_8bb4_9c02d6e07f5brow1_col1\" class=\"data row1 col1\" >70</td> \n",
       "        <td id=\"T_03c2fc61_2202_11e9_8bb4_9c02d6e07f5brow1_col2\" class=\"data row1 col2\" >72</td> \n",
       "        <td id=\"T_03c2fc61_2202_11e9_8bb4_9c02d6e07f5brow1_col3\" class=\"data row1 col3\" >233</td> \n",
       "    </tr>    <tr> \n",
       "        <th id=\"T_03c2fc61_2202_11e9_8bb4_9c02d6e07f5blevel0_row2\" class=\"row_heading level0 row2\" rowspan=2>male</th> \n",
       "        <th id=\"T_03c2fc61_2202_11e9_8bb4_9c02d6e07f5blevel1_row2\" class=\"row_heading level1 row2\" >0</th> \n",
       "        <td id=\"T_03c2fc61_2202_11e9_8bb4_9c02d6e07f5brow2_col0\" class=\"data row2 col0\" >77</td> \n",
       "        <td id=\"T_03c2fc61_2202_11e9_8bb4_9c02d6e07f5brow2_col1\" class=\"data row2 col1\" >91</td> \n",
       "        <td id=\"T_03c2fc61_2202_11e9_8bb4_9c02d6e07f5brow2_col2\" class=\"data row2 col2\" >300</td> \n",
       "        <td id=\"T_03c2fc61_2202_11e9_8bb4_9c02d6e07f5brow2_col3\" class=\"data row2 col3\" >468</td> \n",
       "    </tr>    <tr> \n",
       "        <th id=\"T_03c2fc61_2202_11e9_8bb4_9c02d6e07f5blevel1_row3\" class=\"row_heading level1 row3\" >1</th> \n",
       "        <td id=\"T_03c2fc61_2202_11e9_8bb4_9c02d6e07f5brow3_col0\" class=\"data row3 col0\" >45</td> \n",
       "        <td id=\"T_03c2fc61_2202_11e9_8bb4_9c02d6e07f5brow3_col1\" class=\"data row3 col1\" >17</td> \n",
       "        <td id=\"T_03c2fc61_2202_11e9_8bb4_9c02d6e07f5brow3_col2\" class=\"data row3 col2\" >47</td> \n",
       "        <td id=\"T_03c2fc61_2202_11e9_8bb4_9c02d6e07f5brow3_col3\" class=\"data row3 col3\" >109</td> \n",
       "    </tr>    <tr> \n",
       "        <th id=\"T_03c2fc61_2202_11e9_8bb4_9c02d6e07f5blevel0_row4\" class=\"row_heading level0 row4\" >All</th> \n",
       "        <th id=\"T_03c2fc61_2202_11e9_8bb4_9c02d6e07f5blevel1_row4\" class=\"row_heading level1 row4\" ></th> \n",
       "        <td id=\"T_03c2fc61_2202_11e9_8bb4_9c02d6e07f5brow4_col0\" class=\"data row4 col0\" >216</td> \n",
       "        <td id=\"T_03c2fc61_2202_11e9_8bb4_9c02d6e07f5brow4_col1\" class=\"data row4 col1\" >184</td> \n",
       "        <td id=\"T_03c2fc61_2202_11e9_8bb4_9c02d6e07f5brow4_col2\" class=\"data row4 col2\" >491</td> \n",
       "        <td id=\"T_03c2fc61_2202_11e9_8bb4_9c02d6e07f5brow4_col3\" class=\"data row4 col3\" >891</td> \n",
       "    </tr></tbody> \n",
       "</table> "
      ],
      "text/plain": [
       "<pandas.io.formats.style.Styler at 0x51dadd8>"
      ]
     },
     "execution_count": 38,
     "metadata": {},
     "output_type": "execute_result"
    }
   ],
   "source": [
    "pd.crosstab([data.Sex,data.Survived],data.Pclass,margins=True).style.background_gradient(cmap='summer_r')"
   ]
  },
  {
   "cell_type": "code",
   "execution_count": 17,
   "metadata": {
    "collapsed": true
   },
   "outputs": [
    {
     "data": {
      "text/html": [
       "<style  type=\"text/css\" >\n",
       "    #T_e6a7400f_1d5f_11e9_9bcf_448500fd0966row0_col0 {\n",
       "            background-color:  #ffff66;\n",
       "        }    #T_e6a7400f_1d5f_11e9_9bcf_448500fd0966row0_col1 {\n",
       "            background-color:  #c5e266;\n",
       "        }    #T_e6a7400f_1d5f_11e9_9bcf_448500fd0966row0_col2 {\n",
       "            background-color:  #fafc66;\n",
       "        }    #T_e6a7400f_1d5f_11e9_9bcf_448500fd0966row1_col0 {\n",
       "            background-color:  #fefe66;\n",
       "        }    #T_e6a7400f_1d5f_11e9_9bcf_448500fd0966row1_col1 {\n",
       "            background-color:  #d6eb66;\n",
       "        }    #T_e6a7400f_1d5f_11e9_9bcf_448500fd0966row1_col2 {\n",
       "            background-color:  #ffff66;\n",
       "        }    #T_e6a7400f_1d5f_11e9_9bcf_448500fd0966row2_col0 {\n",
       "            background-color:  #dfef66;\n",
       "        }    #T_e6a7400f_1d5f_11e9_9bcf_448500fd0966row2_col1 {\n",
       "            background-color:  #d4ea66;\n",
       "        }    #T_e6a7400f_1d5f_11e9_9bcf_448500fd0966row2_col2 {\n",
       "            background-color:  #eaf466;\n",
       "        }    #T_e6a7400f_1d5f_11e9_9bcf_448500fd0966row3_col0 {\n",
       "            background-color:  #ddee66;\n",
       "        }    #T_e6a7400f_1d5f_11e9_9bcf_448500fd0966row3_col1 {\n",
       "            background-color:  #e9f466;\n",
       "        }    #T_e6a7400f_1d5f_11e9_9bcf_448500fd0966row3_col2 {\n",
       "            background-color:  #f1f866;\n",
       "        }    #T_e6a7400f_1d5f_11e9_9bcf_448500fd0966row4_col0 {\n",
       "            background-color:  #d6eb66;\n",
       "        }    #T_e6a7400f_1d5f_11e9_9bcf_448500fd0966row4_col1 {\n",
       "            background-color:  #ffff66;\n",
       "        }    #T_e6a7400f_1d5f_11e9_9bcf_448500fd0966row4_col2 {\n",
       "            background-color:  #f5fa66;\n",
       "        }    #T_e6a7400f_1d5f_11e9_9bcf_448500fd0966row5_col0 {\n",
       "            background-color:  #74ba66;\n",
       "        }    #T_e6a7400f_1d5f_11e9_9bcf_448500fd0966row5_col1 {\n",
       "            background-color:  #e8f466;\n",
       "        }    #T_e6a7400f_1d5f_11e9_9bcf_448500fd0966row5_col2 {\n",
       "            background-color:  #aad466;\n",
       "        }    #T_e6a7400f_1d5f_11e9_9bcf_448500fd0966row6_col0 {\n",
       "            background-color:  #008066;\n",
       "        }    #T_e6a7400f_1d5f_11e9_9bcf_448500fd0966row6_col1 {\n",
       "            background-color:  #008066;\n",
       "        }    #T_e6a7400f_1d5f_11e9_9bcf_448500fd0966row6_col2 {\n",
       "            background-color:  #008066;\n",
       "        }</style>  \n",
       "<table id=\"T_e6a7400f_1d5f_11e9_9bcf_448500fd0966\" > \n",
       "<thead>    <tr> \n",
       "        <th class=\"blank\" ></th> \n",
       "        <th class=\"index_name level0\" >Survived</th> \n",
       "        <th class=\"col_heading level0 col0\" >0</th> \n",
       "        <th class=\"col_heading level0 col1\" >1</th> \n",
       "        <th class=\"col_heading level0 col2\" >All</th> \n",
       "    </tr>    <tr> \n",
       "        <th class=\"index_name level0\" >Sex</th> \n",
       "        <th class=\"index_name level1\" >Pclass</th> \n",
       "        <th class=\"blank\" ></th> \n",
       "        <th class=\"blank\" ></th> \n",
       "        <th class=\"blank\" ></th> \n",
       "    </tr></thead> \n",
       "<tbody>    <tr> \n",
       "        <th id=\"T_e6a7400f_1d5f_11e9_9bcf_448500fd0966\" class=\"row_heading level0 row0\" rowspan=3>female</th> \n",
       "        <th id=\"T_e6a7400f_1d5f_11e9_9bcf_448500fd0966\" class=\"row_heading level1 row0\" >1</th> \n",
       "        <td id=\"T_e6a7400f_1d5f_11e9_9bcf_448500fd0966row0_col0\" class=\"data row0 col0\" >3</td> \n",
       "        <td id=\"T_e6a7400f_1d5f_11e9_9bcf_448500fd0966row0_col1\" class=\"data row0 col1\" >91</td> \n",
       "        <td id=\"T_e6a7400f_1d5f_11e9_9bcf_448500fd0966row0_col2\" class=\"data row0 col2\" >94</td> \n",
       "    </tr>    <tr> \n",
       "        <th id=\"T_e6a7400f_1d5f_11e9_9bcf_448500fd0966\" class=\"row_heading level1 row1\" >2</th> \n",
       "        <td id=\"T_e6a7400f_1d5f_11e9_9bcf_448500fd0966row1_col0\" class=\"data row1 col0\" >6</td> \n",
       "        <td id=\"T_e6a7400f_1d5f_11e9_9bcf_448500fd0966row1_col1\" class=\"data row1 col1\" >70</td> \n",
       "        <td id=\"T_e6a7400f_1d5f_11e9_9bcf_448500fd0966row1_col2\" class=\"data row1 col2\" >76</td> \n",
       "    </tr>    <tr> \n",
       "        <th id=\"T_e6a7400f_1d5f_11e9_9bcf_448500fd0966\" class=\"row_heading level1 row2\" >3</th> \n",
       "        <td id=\"T_e6a7400f_1d5f_11e9_9bcf_448500fd0966row2_col0\" class=\"data row2 col0\" >72</td> \n",
       "        <td id=\"T_e6a7400f_1d5f_11e9_9bcf_448500fd0966row2_col1\" class=\"data row2 col1\" >72</td> \n",
       "        <td id=\"T_e6a7400f_1d5f_11e9_9bcf_448500fd0966row2_col2\" class=\"data row2 col2\" >144</td> \n",
       "    </tr>    <tr> \n",
       "        <th id=\"T_e6a7400f_1d5f_11e9_9bcf_448500fd0966\" class=\"row_heading level0 row3\" rowspan=3>male</th> \n",
       "        <th id=\"T_e6a7400f_1d5f_11e9_9bcf_448500fd0966\" class=\"row_heading level1 row3\" >1</th> \n",
       "        <td id=\"T_e6a7400f_1d5f_11e9_9bcf_448500fd0966row3_col0\" class=\"data row3 col0\" >77</td> \n",
       "        <td id=\"T_e6a7400f_1d5f_11e9_9bcf_448500fd0966row3_col1\" class=\"data row3 col1\" >45</td> \n",
       "        <td id=\"T_e6a7400f_1d5f_11e9_9bcf_448500fd0966row3_col2\" class=\"data row3 col2\" >122</td> \n",
       "    </tr>    <tr> \n",
       "        <th id=\"T_e6a7400f_1d5f_11e9_9bcf_448500fd0966\" class=\"row_heading level1 row4\" >2</th> \n",
       "        <td id=\"T_e6a7400f_1d5f_11e9_9bcf_448500fd0966row4_col0\" class=\"data row4 col0\" >91</td> \n",
       "        <td id=\"T_e6a7400f_1d5f_11e9_9bcf_448500fd0966row4_col1\" class=\"data row4 col1\" >17</td> \n",
       "        <td id=\"T_e6a7400f_1d5f_11e9_9bcf_448500fd0966row4_col2\" class=\"data row4 col2\" >108</td> \n",
       "    </tr>    <tr> \n",
       "        <th id=\"T_e6a7400f_1d5f_11e9_9bcf_448500fd0966\" class=\"row_heading level1 row5\" >3</th> \n",
       "        <td id=\"T_e6a7400f_1d5f_11e9_9bcf_448500fd0966row5_col0\" class=\"data row5 col0\" >300</td> \n",
       "        <td id=\"T_e6a7400f_1d5f_11e9_9bcf_448500fd0966row5_col1\" class=\"data row5 col1\" >47</td> \n",
       "        <td id=\"T_e6a7400f_1d5f_11e9_9bcf_448500fd0966row5_col2\" class=\"data row5 col2\" >347</td> \n",
       "    </tr>    <tr> \n",
       "        <th id=\"T_e6a7400f_1d5f_11e9_9bcf_448500fd0966\" class=\"row_heading level0 row6\" >All</th> \n",
       "        <th id=\"T_e6a7400f_1d5f_11e9_9bcf_448500fd0966\" class=\"row_heading level1 row6\" ></th> \n",
       "        <td id=\"T_e6a7400f_1d5f_11e9_9bcf_448500fd0966row6_col0\" class=\"data row6 col0\" >549</td> \n",
       "        <td id=\"T_e6a7400f_1d5f_11e9_9bcf_448500fd0966row6_col1\" class=\"data row6 col1\" >342</td> \n",
       "        <td id=\"T_e6a7400f_1d5f_11e9_9bcf_448500fd0966row6_col2\" class=\"data row6 col2\" >891</td> \n",
       "    </tr></tbody> \n",
       "</table> "
      ],
      "text/plain": [
       "<pandas.io.formats.style.Styler at 0xdadc4a8>"
      ]
     },
     "execution_count": 17,
     "metadata": {},
     "output_type": "execute_result"
    }
   ],
   "source": [
    "pd.crosstab([data.Sex,data.Pclass],data.Survived,margins=True).style.background_gradient(cmap='summer_r')"
   ]
  },
  {
   "cell_type": "code",
   "execution_count": 18,
   "metadata": {
    "collapsed": true
   },
   "outputs": [
    {
     "data": {
      "image/png": "[encoded data removed]",
      "text/plain": [
       "<matplotlib.figure.Figure at 0xdacf3c8>"
      ]
     },
     "metadata": {},
     "output_type": "display_data"
    }
   ],
   "source": [
    "sns.factorplot('Pclass','Survived',hue='Sex',data=data)\n",
    "plt.show()"
   ]
  },
  {
   "cell_type": "code",
   "execution_count": 20,
   "metadata": {
    "collapsed": true
   },
   "outputs": [
    {
     "data": {
      "image/png": "[encoded data removed]",
      "text/plain": [
       "<matplotlib.figure.Figure at 0x11a790550>"
      ]
     },
     "metadata": {},
     "output_type": "display_data"
    }
   ],
   "source": [
    "sns.factorplot('Pclass','Survived',hue='Sex',col='Embarked',data=data)\n",
    "plt.show()"
   ]
  },
  {
   "cell_type": "markdown",
   "metadata": {},
   "source": [
    "https://seaborn.pydata.org/generated/seaborn.factorplot.html"
   ]
  },
  {
   "cell_type": "markdown",
   "metadata": {},
   "source": [
    "### Age based Analysis"
   ]
  },
  {
   "cell_type": "code",
   "execution_count": 21,
   "metadata": {
    "collapsed": true
   },
   "outputs": [
    {
     "data": {
      "text/plain": [
       "(0.41999999999999998, 80.0)"
      ]
     },
     "execution_count": 21,
     "metadata": {},
     "output_type": "execute_result"
    }
   ],
   "source": [
    "data['Age'].min(),data['Age'].max()"
   ]
  },
  {
   "cell_type": "code",
   "execution_count": 19,
   "metadata": {
    "collapsed": true
   },
   "outputs": [
    {
     "data": {
      "text/plain": [
       "<matplotlib.axes._subplots.AxesSubplot at 0xdacf7b8>"
      ]
     },
     "execution_count": 19,
     "metadata": {},
     "output_type": "execute_result"
    },
    {
     "data": {
      "image/png": "[encoded data removed]",
      "text/plain": [
       "<matplotlib.figure.Figure at 0xdb620b8>"
      ]
     },
     "metadata": {},
     "output_type": "display_data"
    }
   ],
   "source": [
    "%matplotlib inline\n",
    "\n",
    "alpha_color=0.5\n",
    "data['Survived'].value_counts().plot(kind='bar')"
   ]
  },
  {
   "cell_type": "code",
   "execution_count": 20,
   "metadata": {
    "collapsed": true
   },
   "outputs": [
    {
     "data": {
      "text/plain": [
       "<matplotlib.axes._subplots.AxesSubplot at 0xe112898>"
      ]
     },
     "execution_count": 20,
     "metadata": {},
     "output_type": "execute_result"
    },
    {
     "data": {
      "image/png": "[encoded data removed]",
      "text/plain": [
       "<matplotlib.figure.Figure at 0xbfaa940>"
      ]
     },
     "metadata": {},
     "output_type": "display_data"
    }
   ],
   "source": [
    "data['Sex'].value_counts().plot(kind='bar',\n",
    "                               color=['b','r'],\n",
    "                               alpha=alpha_color)"
   ]
  },
  {
   "cell_type": "code",
   "execution_count": 21,
   "metadata": {
    "collapsed": true
   },
   "outputs": [
    {
     "data": {
      "text/plain": [
       "<matplotlib.axes._subplots.AxesSubplot at 0xe33cc88>"
      ]
     },
     "execution_count": 21,
     "metadata": {},
     "output_type": "execute_result"
    },
    {
     "data": {
      "image/png": "[encoded data removed]",
      "text/plain": [
       "<matplotlib.figure.Figure at 0xdce37f0>"
      ]
     },
     "metadata": {},
     "output_type": "display_data"
    }
   ],
   "source": [
    "data.plot(kind='scatter', x='Survived',y='Age')"
   ]
  },
  {
   "cell_type": "code",
   "execution_count": 22,
   "metadata": {
    "collapsed": true
   },
   "outputs": [
    {
     "data": {
      "text/plain": [
       "<matplotlib.axes._subplots.AxesSubplot at 0xe583a90>"
      ]
     },
     "execution_count": 22,
     "metadata": {},
     "output_type": "execute_result"
    },
    {
     "data": {
      "image/png": "[encoded data removed]",
      "text/plain": [
       "<matplotlib.figure.Figure at 0xe5971d0>"
      ]
     },
     "metadata": {},
     "output_type": "display_data"
    }
   ],
   "source": [
    "data[data['Survived']==1]['Age'].value_counts().sort_index().plot('bar')"
   ]
  },
  {
   "cell_type": "code",
   "execution_count": 23,
   "metadata": {
    "collapsed": true
   },
   "outputs": [
    {
     "data": {
      "text/html": [
       "<div>\n",
       "<style>\n",
       "    .dataframe thead tr:only-child th {\n",
       "        text-align: right;\n",
       "    }\n",
       "\n",
       "    .dataframe thead th {\n",
       "        text-align: left;\n",
       "    }\n",
       "\n",
       "    .dataframe tbody tr th {\n",
       "        vertical-align: top;\n",
       "    }\n",
       "</style>\n",
       "<table border=\"1\" class=\"dataframe\">\n",
       "  <thead>\n",
       "    <tr style=\"text-align: right;\">\n",
       "      <th></th>\n",
       "      <th>PassengerId</th>\n",
       "      <th>Survived</th>\n",
       "      <th>Pclass</th>\n",
       "      <th>Name</th>\n",
       "      <th>Sex</th>\n",
       "      <th>Age</th>\n",
       "      <th>SibSp</th>\n",
       "      <th>Parch</th>\n",
       "      <th>Ticket</th>\n",
       "      <th>Fare</th>\n",
       "      <th>Cabin</th>\n",
       "      <th>Embarked</th>\n",
       "      <th>AgeBin</th>\n",
       "    </tr>\n",
       "  </thead>\n",
       "  <tbody>\n",
       "    <tr>\n",
       "      <th>0</th>\n",
       "      <td>1</td>\n",
       "      <td>0</td>\n",
       "      <td>3</td>\n",
       "      <td>Braund, Mr. Owen Harris</td>\n",
       "      <td>male</td>\n",
       "      <td>22.0</td>\n",
       "      <td>1</td>\n",
       "      <td>0</td>\n",
       "      <td>A/5 21171</td>\n",
       "      <td>7.2500</td>\n",
       "      <td>NaN</td>\n",
       "      <td>S</td>\n",
       "      <td>(20, 30]</td>\n",
       "    </tr>\n",
       "    <tr>\n",
       "      <th>1</th>\n",
       "      <td>2</td>\n",
       "      <td>1</td>\n",
       "      <td>1</td>\n",
       "      <td>Cumings, Mrs. John Bradley (Florence Briggs Th...</td>\n",
       "      <td>female</td>\n",
       "      <td>38.0</td>\n",
       "      <td>1</td>\n",
       "      <td>0</td>\n",
       "      <td>PC 17599</td>\n",
       "      <td>71.2833</td>\n",
       "      <td>C85</td>\n",
       "      <td>C</td>\n",
       "      <td>(30, 40]</td>\n",
       "    </tr>\n",
       "    <tr>\n",
       "      <th>2</th>\n",
       "      <td>3</td>\n",
       "      <td>1</td>\n",
       "      <td>3</td>\n",
       "      <td>Heikkinen, Miss. Laina</td>\n",
       "      <td>female</td>\n",
       "      <td>26.0</td>\n",
       "      <td>0</td>\n",
       "      <td>0</td>\n",
       "      <td>STON/O2. 3101282</td>\n",
       "      <td>7.9250</td>\n",
       "      <td>NaN</td>\n",
       "      <td>S</td>\n",
       "      <td>(20, 30]</td>\n",
       "    </tr>\n",
       "    <tr>\n",
       "      <th>3</th>\n",
       "      <td>4</td>\n",
       "      <td>1</td>\n",
       "      <td>1</td>\n",
       "      <td>Futrelle, Mrs. Jacques Heath (Lily May Peel)</td>\n",
       "      <td>female</td>\n",
       "      <td>35.0</td>\n",
       "      <td>1</td>\n",
       "      <td>0</td>\n",
       "      <td>113803</td>\n",
       "      <td>53.1000</td>\n",
       "      <td>C123</td>\n",
       "      <td>S</td>\n",
       "      <td>(30, 40]</td>\n",
       "    </tr>\n",
       "    <tr>\n",
       "      <th>4</th>\n",
       "      <td>5</td>\n",
       "      <td>0</td>\n",
       "      <td>3</td>\n",
       "      <td>Allen, Mr. William Henry</td>\n",
       "      <td>male</td>\n",
       "      <td>35.0</td>\n",
       "      <td>0</td>\n",
       "      <td>0</td>\n",
       "      <td>373450</td>\n",
       "      <td>8.0500</td>\n",
       "      <td>NaN</td>\n",
       "      <td>S</td>\n",
       "      <td>(30, 40]</td>\n",
       "    </tr>\n",
       "  </tbody>\n",
       "</table>\n",
       "</div>"
      ],
      "text/plain": [
       "   PassengerId  Survived  Pclass  \\\n",
       "0            1         0       3   \n",
       "1            2         1       1   \n",
       "2            3         1       3   \n",
       "3            4         1       1   \n",
       "4            5         0       3   \n",
       "\n",
       "                                                Name     Sex   Age  SibSp  \\\n",
       "0                            Braund, Mr. Owen Harris    male  22.0      1   \n",
       "1  Cumings, Mrs. John Bradley (Florence Briggs Th...  female  38.0      1   \n",
       "2                             Heikkinen, Miss. Laina  female  26.0      0   \n",
       "3       Futrelle, Mrs. Jacques Heath (Lily May Peel)  female  35.0      1   \n",
       "4                           Allen, Mr. William Henry    male  35.0      0   \n",
       "\n",
       "   Parch            Ticket     Fare Cabin Embarked    AgeBin  \n",
       "0      0         A/5 21171   7.2500   NaN        S  (20, 30]  \n",
       "1      0          PC 17599  71.2833   C85        C  (30, 40]  \n",
       "2      0  STON/O2. 3101282   7.9250   NaN        S  (20, 30]  \n",
       "3      0            113803  53.1000  C123        S  (30, 40]  \n",
       "4      0            373450   8.0500   NaN        S  (30, 40]  "
      ]
     },
     "execution_count": 23,
     "metadata": {},
     "output_type": "execute_result"
    }
   ],
   "source": [
    "bins=[0,10,20,30,40,50,60,70,80]\n",
    "data['AgeBin']=pd.cut(data['Age'],bins)\n",
    "data.head()"
   ]
  },
  {
   "cell_type": "code",
   "execution_count": 24,
   "metadata": {
    "collapsed": true
   },
   "outputs": [
    {
     "data": {
      "text/plain": [
       "<matplotlib.axes._subplots.AxesSubplot at 0x47899b0>"
      ]
     },
     "execution_count": 24,
     "metadata": {},
     "output_type": "execute_result"
    },
    {
     "data": {
      "image/png": "[encoded data removed]",
      "text/plain": [
       "<matplotlib.figure.Figure at 0xe79f630>"
      ]
     },
     "metadata": {},
     "output_type": "display_data"
    }
   ],
   "source": [
    "data[data['Survived']==1]['AgeBin'].value_counts().sort_index().plot('bar')"
   ]
  },
  {
   "cell_type": "code",
   "execution_count": 25,
   "metadata": {
    "collapsed": true
   },
   "outputs": [
    {
     "data": {
      "text/plain": [
       "<matplotlib.axes._subplots.AxesSubplot at 0xddf55f8>"
      ]
     },
     "execution_count": 25,
     "metadata": {},
     "output_type": "execute_result"
    },
    {
     "data": {
      "image/png": "[encoded data removed]",
      "text/plain": [
       "<matplotlib.figure.Figure at 0xdfafc50>"
      ]
     },
     "metadata": {},
     "output_type": "display_data"
    }
   ],
   "source": [
    "data[data['Survived']==0]['AgeBin'].value_counts().sort_index().plot('bar')"
   ]
  },
  {
   "cell_type": "code",
   "execution_count": 26,
   "metadata": {
    "collapsed": true
   },
   "outputs": [
    {
     "data": {
      "text/plain": [
       "<matplotlib.axes._subplots.AxesSubplot at 0xeefb0f0>"
      ]
     },
     "execution_count": 26,
     "metadata": {},
     "output_type": "execute_result"
    },
    {
     "data": {
      "image/png": "[encoded data removed]",
      "text/plain": [
       "<matplotlib.figure.Figure at 0xbfc7358>"
      ]
     },
     "metadata": {},
     "output_type": "display_data"
    }
   ],
   "source": [
    "data['AgeBin'].value_counts().sort_index().plot('bar')"
   ]
  },
  {
   "cell_type": "code",
   "execution_count": 27,
   "metadata": {
    "collapsed": true
   },
   "outputs": [
    {
     "data": {
      "text/plain": [
       "<matplotlib.axes._subplots.AxesSubplot at 0xbe8d6d8>"
      ]
     },
     "execution_count": 27,
     "metadata": {},
     "output_type": "execute_result"
    },
    {
     "data": {
      "image/png": "[encoded data removed]",
      "text/plain": [
       "<matplotlib.figure.Figure at 0xe82c0b8>"
      ]
     },
     "metadata": {},
     "output_type": "display_data"
    }
   ],
   "source": [
    "data[data['Pclass']==1]['Survived'].value_counts().plot('bar')"
   ]
  },
  {
   "cell_type": "code",
   "execution_count": 28,
   "metadata": {
    "collapsed": true
   },
   "outputs": [
    {
     "data": {
      "text/plain": [
       "<matplotlib.axes._subplots.AxesSubplot at 0xf1a2240>"
      ]
     },
     "execution_count": 28,
     "metadata": {},
     "output_type": "execute_result"
    },
    {
     "data": {
      "image/png": "[encoded data removed]",
      "text/plain": [
       "<matplotlib.figure.Figure at 0xf1b9f98>"
      ]
     },
     "metadata": {},
     "output_type": "display_data"
    }
   ],
   "source": [
    "data[data['Pclass']==3]['Survived'].value_counts().plot('bar')"
   ]
  },
  {
   "cell_type": "code",
   "execution_count": 29,
   "metadata": {
    "collapsed": true
   },
   "outputs": [
    {
     "data": {
      "text/plain": [
       "<matplotlib.axes._subplots.AxesSubplot at 0xf575f60>"
      ]
     },
     "execution_count": 29,
     "metadata": {},
     "output_type": "execute_result"
    },
    {
     "data": {
      "image/png": "[encoded data removed]",
      "text/plain": [
       "<matplotlib.figure.Figure at 0xf68a0f0>"
      ]
     },
     "metadata": {},
     "output_type": "display_data"
    }
   ],
   "source": [
    "data[data['Sex']=='male']['Survived'].value_counts().plot('bar')"
   ]
  },
  {
   "cell_type": "code",
   "execution_count": 30,
   "metadata": {
    "collapsed": true
   },
   "outputs": [
    {
     "data": {
      "text/plain": [
       "<matplotlib.axes._subplots.AxesSubplot at 0xf722048>"
      ]
     },
     "execution_count": 30,
     "metadata": {},
     "output_type": "execute_result"
    },
    {
     "data": {
      "image/png": "[encoded data removed]",
      "text/plain": [
       "<matplotlib.figure.Figure at 0xf86a0b8>"
      ]
     },
     "metadata": {},
     "output_type": "display_data"
    }
   ],
   "source": [
    "data[data['Sex']=='female']['Survived'].value_counts().plot('bar')"
   ]
  },
  {
   "cell_type": "code",
   "execution_count": 31,
   "metadata": {
    "collapsed": true
   },
   "outputs": [
    {
     "data": {
      "text/plain": [
       "<matplotlib.axes._subplots.AxesSubplot at 0xf9bca90>"
      ]
     },
     "execution_count": 31,
     "metadata": {},
     "output_type": "execute_result"
    },
    {
     "data": {
      "image/png": "[encoded data removed]",
      "text/plain": [
       "<matplotlib.figure.Figure at 0xfa84128>"
      ]
     },
     "metadata": {},
     "output_type": "display_data"
    }
   ],
   "source": [
    "data[(data['Sex']=='male') & (data['Pclass']==1)]['Survived'].value_counts().plot('bar')"
   ]
  },
  {
   "cell_type": "code",
   "execution_count": 32,
   "metadata": {
    "collapsed": true
   },
   "outputs": [
    {
     "data": {
      "text/plain": [
       "<matplotlib.axes._subplots.AxesSubplot at 0xfbded68>"
      ]
     },
     "execution_count": 32,
     "metadata": {},
     "output_type": "execute_result"
    },
    {
     "data": {
      "image/png": "[encoded data removed]",
      "text/plain": [
       "<matplotlib.figure.Figure at 0xfc9ef28>"
      ]
     },
     "metadata": {},
     "output_type": "display_data"
    }
   ],
   "source": [
    "data[(data['Sex']=='female') & (data['Pclass']==1)]['Survived'].value_counts().plot('bar')"
   ]
  },
  {
   "cell_type": "code",
   "execution_count": 33,
   "metadata": {
    "collapsed": true
   },
   "outputs": [
    {
     "data": {
      "text/plain": [
       "<matplotlib.axes._subplots.AxesSubplot at 0xfe3d4a8>"
      ]
     },
     "execution_count": 33,
     "metadata": {},
     "output_type": "execute_result"
    },
    {
     "data": {
      "image/png": "[encoded data removed]",
      "text/plain": [
       "<matplotlib.figure.Figure at 0xff3a898>"
      ]
     },
     "metadata": {},
     "output_type": "display_data"
    }
   ],
   "source": [
    "data[(data['Sex']=='male') & (data['Pclass']==3)]['Survived'].value_counts().plot('bar')"
   ]
  },
  {
   "cell_type": "code",
   "execution_count": 36,
   "metadata": {
    "collapsed": true
   },
   "outputs": [
    {
     "data": {
      "text/plain": [
       "<matplotlib.axes._subplots.AxesSubplot at 0x2306e4e0>"
      ]
     },
     "execution_count": 36,
     "metadata": {},
     "output_type": "execute_result"
    },
    {
     "data": {
      "image/png": "[encoded data removed]",
      "text/plain": [
       "<matplotlib.figure.Figure at 0x230d2c50>"
      ]
     },
     "metadata": {},
     "output_type": "display_data"
    }
   ],
   "source": [
    "data[(data['Sex']=='female') & (data['Pclass']==3)]['Survived'].value_counts().plot('bar')"
   ]
  },
  {
   "cell_type": "code",
   "execution_count": 34,
   "metadata": {
    "collapsed": true
   },
   "outputs": [
    {
     "data": {
      "image/png": "[encoded data removed]",
      "text/plain": [
       "<matplotlib.figure.Figure at 0xfe13c18>"
      ]
     },
     "metadata": {},
     "output_type": "display_data"
    }
   ],
   "source": [
    "f,ax=plt.subplots(1,2,figsize=(18,8))\n",
    "sns.violinplot(\"Pclass\",\"Age\", hue=\"Survived\", data=data,split=True,ax=ax[0])\n",
    "ax[0].set_title('Pclass and Age vs Survived')\n",
    "ax[0].set_yticks(range(0,110,10))\n",
    "sns.violinplot(\"Sex\",\"Age\", hue=\"Survived\", data=data,split=True,ax=ax[1])\n",
    "ax[1].set_title('Sex and Age vs Survived')\n",
    "ax[1].set_yticks(range(0,110,10))\n",
    "plt.show()"
   ]
  },
  {
   "cell_type": "markdown",
   "metadata": {},
   "source": [
    "* Survival rates of female passengers is higher\n",
    "* Survival rates of first class passengers is higher\n",
    "* If you were a female with a first class ticket then you are most probably alive\n",
    "* Survival rate of kids is higher irrespective of Pclass\n",
    "* 2nd and 3rd class has more kids/families "
   ]
  },
  {
   "cell_type": "code",
   "execution_count": 35,
   "metadata": {
    "collapsed": true
   },
   "outputs": [
    {
     "data": {
      "text/plain": [
       "PassengerId      0\n",
       "Survived         0\n",
       "Pclass           0\n",
       "Name             0\n",
       "Sex              0\n",
       "Age            177\n",
       "SibSp            0\n",
       "Parch            0\n",
       "Ticket           0\n",
       "Fare             0\n",
       "Cabin          687\n",
       "Embarked         2\n",
       "AgeBin         177\n",
       "dtype: int64"
      ]
     },
     "execution_count": 35,
     "metadata": {},
     "output_type": "execute_result"
    }
   ],
   "source": [
    "data.isnull().sum() #checking for total null values"
   ]
  },
  {
   "cell_type": "code",
   "execution_count": 36,
   "metadata": {},
   "outputs": [
    {
     "data": {
      "text/plain": [
       "29.69911764705882"
      ]
     },
     "execution_count": 36,
     "metadata": {},
     "output_type": "execute_result"
    }
   ],
   "source": [
    "data['Age'].mean()"
   ]
  },
  {
   "cell_type": "code",
   "execution_count": 37,
   "metadata": {
    "collapsed": true
   },
   "outputs": [
    {
     "data": {
      "text/html": [
       "<div>\n",
       "<style>\n",
       "    .dataframe thead tr:only-child th {\n",
       "        text-align: right;\n",
       "    }\n",
       "\n",
       "    .dataframe thead th {\n",
       "        text-align: left;\n",
       "    }\n",
       "\n",
       "    .dataframe tbody tr th {\n",
       "        vertical-align: top;\n",
       "    }\n",
       "</style>\n",
       "<table border=\"1\" class=\"dataframe\">\n",
       "  <thead>\n",
       "    <tr style=\"text-align: right;\">\n",
       "      <th></th>\n",
       "      <th>PassengerId</th>\n",
       "      <th>Survived</th>\n",
       "      <th>Pclass</th>\n",
       "      <th>Name</th>\n",
       "      <th>Sex</th>\n",
       "      <th>Age</th>\n",
       "      <th>SibSp</th>\n",
       "      <th>Parch</th>\n",
       "      <th>Ticket</th>\n",
       "      <th>Fare</th>\n",
       "      <th>Cabin</th>\n",
       "      <th>Embarked</th>\n",
       "      <th>AgeBin</th>\n",
       "    </tr>\n",
       "  </thead>\n",
       "  <tbody>\n",
       "    <tr>\n",
       "      <th>0</th>\n",
       "      <td>1</td>\n",
       "      <td>0</td>\n",
       "      <td>3</td>\n",
       "      <td>Braund, Mr. Owen Harris</td>\n",
       "      <td>male</td>\n",
       "      <td>22.0</td>\n",
       "      <td>1</td>\n",
       "      <td>0</td>\n",
       "      <td>A/5 21171</td>\n",
       "      <td>7.2500</td>\n",
       "      <td>NaN</td>\n",
       "      <td>S</td>\n",
       "      <td>(20, 30]</td>\n",
       "    </tr>\n",
       "    <tr>\n",
       "      <th>1</th>\n",
       "      <td>2</td>\n",
       "      <td>1</td>\n",
       "      <td>1</td>\n",
       "      <td>Cumings, Mrs. John Bradley (Florence Briggs Th...</td>\n",
       "      <td>female</td>\n",
       "      <td>38.0</td>\n",
       "      <td>1</td>\n",
       "      <td>0</td>\n",
       "      <td>PC 17599</td>\n",
       "      <td>71.2833</td>\n",
       "      <td>C85</td>\n",
       "      <td>C</td>\n",
       "      <td>(30, 40]</td>\n",
       "    </tr>\n",
       "    <tr>\n",
       "      <th>2</th>\n",
       "      <td>3</td>\n",
       "      <td>1</td>\n",
       "      <td>3</td>\n",
       "      <td>Heikkinen, Miss. Laina</td>\n",
       "      <td>female</td>\n",
       "      <td>26.0</td>\n",
       "      <td>0</td>\n",
       "      <td>0</td>\n",
       "      <td>STON/O2. 3101282</td>\n",
       "      <td>7.9250</td>\n",
       "      <td>NaN</td>\n",
       "      <td>S</td>\n",
       "      <td>(20, 30]</td>\n",
       "    </tr>\n",
       "    <tr>\n",
       "      <th>3</th>\n",
       "      <td>4</td>\n",
       "      <td>1</td>\n",
       "      <td>1</td>\n",
       "      <td>Futrelle, Mrs. Jacques Heath (Lily May Peel)</td>\n",
       "      <td>female</td>\n",
       "      <td>35.0</td>\n",
       "      <td>1</td>\n",
       "      <td>0</td>\n",
       "      <td>113803</td>\n",
       "      <td>53.1000</td>\n",
       "      <td>C123</td>\n",
       "      <td>S</td>\n",
       "      <td>(30, 40]</td>\n",
       "    </tr>\n",
       "    <tr>\n",
       "      <th>4</th>\n",
       "      <td>5</td>\n",
       "      <td>0</td>\n",
       "      <td>3</td>\n",
       "      <td>Allen, Mr. William Henry</td>\n",
       "      <td>male</td>\n",
       "      <td>35.0</td>\n",
       "      <td>0</td>\n",
       "      <td>0</td>\n",
       "      <td>373450</td>\n",
       "      <td>8.0500</td>\n",
       "      <td>NaN</td>\n",
       "      <td>S</td>\n",
       "      <td>(30, 40]</td>\n",
       "    </tr>\n",
       "  </tbody>\n",
       "</table>\n",
       "</div>"
      ],
      "text/plain": [
       "   PassengerId  Survived  Pclass  \\\n",
       "0            1         0       3   \n",
       "1            2         1       1   \n",
       "2            3         1       3   \n",
       "3            4         1       1   \n",
       "4            5         0       3   \n",
       "\n",
       "                                                Name     Sex   Age  SibSp  \\\n",
       "0                            Braund, Mr. Owen Harris    male  22.0      1   \n",
       "1  Cumings, Mrs. John Bradley (Florence Briggs Th...  female  38.0      1   \n",
       "2                             Heikkinen, Miss. Laina  female  26.0      0   \n",
       "3       Futrelle, Mrs. Jacques Heath (Lily May Peel)  female  35.0      1   \n",
       "4                           Allen, Mr. William Henry    male  35.0      0   \n",
       "\n",
       "   Parch            Ticket     Fare Cabin Embarked    AgeBin  \n",
       "0      0         A/5 21171   7.2500   NaN        S  (20, 30]  \n",
       "1      0          PC 17599  71.2833   C85        C  (30, 40]  \n",
       "2      0  STON/O2. 3101282   7.9250   NaN        S  (20, 30]  \n",
       "3      0            113803  53.1000  C123        S  (30, 40]  \n",
       "4      0            373450   8.0500   NaN        S  (30, 40]  "
      ]
     },
     "execution_count": 37,
     "metadata": {},
     "output_type": "execute_result"
    }
   ],
   "source": [
    "data.head()"
   ]
  },
  {
   "cell_type": "code",
   "execution_count": 39,
   "metadata": {
    "collapsed": true
   },
   "outputs": [
    {
     "data": {
      "text/html": [
       "<style  type=\"text/css\" >\n",
       "    #T_52b222b0_1d61_11e9_87e4_448500fd0966row0_col0 {\n",
       "            background-color:  #ffff66;\n",
       "        }    #T_52b222b0_1d61_11e9_87e4_448500fd0966row0_col1 {\n",
       "            background-color:  #ffff66;\n",
       "        }    #T_52b222b0_1d61_11e9_87e4_448500fd0966row0_col2 {\n",
       "            background-color:  #008066;\n",
       "        }    #T_52b222b0_1d61_11e9_87e4_448500fd0966row0_col3 {\n",
       "            background-color:  #ffff66;\n",
       "        }    #T_52b222b0_1d61_11e9_87e4_448500fd0966row0_col4 {\n",
       "            background-color:  #ffff66;\n",
       "        }    #T_52b222b0_1d61_11e9_87e4_448500fd0966row0_col5 {\n",
       "            background-color:  #ffff66;\n",
       "        }    #T_52b222b0_1d61_11e9_87e4_448500fd0966row0_col6 {\n",
       "            background-color:  #008066;\n",
       "        }    #T_52b222b0_1d61_11e9_87e4_448500fd0966row0_col7 {\n",
       "            background-color:  #ffff66;\n",
       "        }    #T_52b222b0_1d61_11e9_87e4_448500fd0966row0_col8 {\n",
       "            background-color:  #ffff66;\n",
       "        }    #T_52b222b0_1d61_11e9_87e4_448500fd0966row0_col9 {\n",
       "            background-color:  #008066;\n",
       "        }    #T_52b222b0_1d61_11e9_87e4_448500fd0966row0_col10 {\n",
       "            background-color:  #008066;\n",
       "        }    #T_52b222b0_1d61_11e9_87e4_448500fd0966row0_col11 {\n",
       "            background-color:  #008066;\n",
       "        }    #T_52b222b0_1d61_11e9_87e4_448500fd0966row0_col12 {\n",
       "            background-color:  #ffff66;\n",
       "        }    #T_52b222b0_1d61_11e9_87e4_448500fd0966row0_col13 {\n",
       "            background-color:  #008066;\n",
       "        }    #T_52b222b0_1d61_11e9_87e4_448500fd0966row0_col14 {\n",
       "            background-color:  #008066;\n",
       "        }    #T_52b222b0_1d61_11e9_87e4_448500fd0966row0_col15 {\n",
       "            background-color:  #ffff66;\n",
       "        }    #T_52b222b0_1d61_11e9_87e4_448500fd0966row0_col16 {\n",
       "            background-color:  #ffff66;\n",
       "        }    #T_52b222b0_1d61_11e9_87e4_448500fd0966row1_col0 {\n",
       "            background-color:  #008066;\n",
       "        }    #T_52b222b0_1d61_11e9_87e4_448500fd0966row1_col1 {\n",
       "            background-color:  #008066;\n",
       "        }    #T_52b222b0_1d61_11e9_87e4_448500fd0966row1_col2 {\n",
       "            background-color:  #ffff66;\n",
       "        }    #T_52b222b0_1d61_11e9_87e4_448500fd0966row1_col3 {\n",
       "            background-color:  #008066;\n",
       "        }    #T_52b222b0_1d61_11e9_87e4_448500fd0966row1_col4 {\n",
       "            background-color:  #008066;\n",
       "        }    #T_52b222b0_1d61_11e9_87e4_448500fd0966row1_col5 {\n",
       "            background-color:  #008066;\n",
       "        }    #T_52b222b0_1d61_11e9_87e4_448500fd0966row1_col6 {\n",
       "            background-color:  #ffff66;\n",
       "        }    #T_52b222b0_1d61_11e9_87e4_448500fd0966row1_col7 {\n",
       "            background-color:  #008066;\n",
       "        }    #T_52b222b0_1d61_11e9_87e4_448500fd0966row1_col8 {\n",
       "            background-color:  #008066;\n",
       "        }    #T_52b222b0_1d61_11e9_87e4_448500fd0966row1_col9 {\n",
       "            background-color:  #ffff66;\n",
       "        }    #T_52b222b0_1d61_11e9_87e4_448500fd0966row1_col10 {\n",
       "            background-color:  #ffff66;\n",
       "        }    #T_52b222b0_1d61_11e9_87e4_448500fd0966row1_col11 {\n",
       "            background-color:  #ffff66;\n",
       "        }    #T_52b222b0_1d61_11e9_87e4_448500fd0966row1_col12 {\n",
       "            background-color:  #008066;\n",
       "        }    #T_52b222b0_1d61_11e9_87e4_448500fd0966row1_col13 {\n",
       "            background-color:  #ffff66;\n",
       "        }    #T_52b222b0_1d61_11e9_87e4_448500fd0966row1_col14 {\n",
       "            background-color:  #ffff66;\n",
       "        }    #T_52b222b0_1d61_11e9_87e4_448500fd0966row1_col15 {\n",
       "            background-color:  #008066;\n",
       "        }    #T_52b222b0_1d61_11e9_87e4_448500fd0966row1_col16 {\n",
       "            background-color:  #008066;\n",
       "        }</style>  \n",
       "<table id=\"T_52b222b0_1d61_11e9_87e4_448500fd0966\" > \n",
       "<thead>    <tr> \n",
       "        <th class=\"index_name level0\" >Initial</th> \n",
       "        <th class=\"col_heading level0 col0\" >Capt</th> \n",
       "        <th class=\"col_heading level0 col1\" >Col</th> \n",
       "        <th class=\"col_heading level0 col2\" >Countess</th> \n",
       "        <th class=\"col_heading level0 col3\" >Don</th> \n",
       "        <th class=\"col_heading level0 col4\" >Dr</th> \n",
       "        <th class=\"col_heading level0 col5\" >Jonkheer</th> \n",
       "        <th class=\"col_heading level0 col6\" >Lady</th> \n",
       "        <th class=\"col_heading level0 col7\" >Major</th> \n",
       "        <th class=\"col_heading level0 col8\" >Master</th> \n",
       "        <th class=\"col_heading level0 col9\" >Miss</th> \n",
       "        <th class=\"col_heading level0 col10\" >Mlle</th> \n",
       "        <th class=\"col_heading level0 col11\" >Mme</th> \n",
       "        <th class=\"col_heading level0 col12\" >Mr</th> \n",
       "        <th class=\"col_heading level0 col13\" >Mrs</th> \n",
       "        <th class=\"col_heading level0 col14\" >Ms</th> \n",
       "        <th class=\"col_heading level0 col15\" >Rev</th> \n",
       "        <th class=\"col_heading level0 col16\" >Sir</th> \n",
       "    </tr>    <tr> \n",
       "        <th class=\"index_name level0\" >Sex</th> \n",
       "        <th class=\"blank\" ></th> \n",
       "        <th class=\"blank\" ></th> \n",
       "        <th class=\"blank\" ></th> \n",
       "        <th class=\"blank\" ></th> \n",
       "        <th class=\"blank\" ></th> \n",
       "        <th class=\"blank\" ></th> \n",
       "        <th class=\"blank\" ></th> \n",
       "        <th class=\"blank\" ></th> \n",
       "        <th class=\"blank\" ></th> \n",
       "        <th class=\"blank\" ></th> \n",
       "        <th class=\"blank\" ></th> \n",
       "        <th class=\"blank\" ></th> \n",
       "        <th class=\"blank\" ></th> \n",
       "        <th class=\"blank\" ></th> \n",
       "        <th class=\"blank\" ></th> \n",
       "        <th class=\"blank\" ></th> \n",
       "        <th class=\"blank\" ></th> \n",
       "    </tr></thead> \n",
       "<tbody>    <tr> \n",
       "        <th id=\"T_52b222b0_1d61_11e9_87e4_448500fd0966\" class=\"row_heading level0 row0\" >female</th> \n",
       "        <td id=\"T_52b222b0_1d61_11e9_87e4_448500fd0966row0_col0\" class=\"data row0 col0\" >0</td> \n",
       "        <td id=\"T_52b222b0_1d61_11e9_87e4_448500fd0966row0_col1\" class=\"data row0 col1\" >0</td> \n",
       "        <td id=\"T_52b222b0_1d61_11e9_87e4_448500fd0966row0_col2\" class=\"data row0 col2\" >1</td> \n",
       "        <td id=\"T_52b222b0_1d61_11e9_87e4_448500fd0966row0_col3\" class=\"data row0 col3\" >0</td> \n",
       "        <td id=\"T_52b222b0_1d61_11e9_87e4_448500fd0966row0_col4\" class=\"data row0 col4\" >1</td> \n",
       "        <td id=\"T_52b222b0_1d61_11e9_87e4_448500fd0966row0_col5\" class=\"data row0 col5\" >0</td> \n",
       "        <td id=\"T_52b222b0_1d61_11e9_87e4_448500fd0966row0_col6\" class=\"data row0 col6\" >1</td> \n",
       "        <td id=\"T_52b222b0_1d61_11e9_87e4_448500fd0966row0_col7\" class=\"data row0 col7\" >0</td> \n",
       "        <td id=\"T_52b222b0_1d61_11e9_87e4_448500fd0966row0_col8\" class=\"data row0 col8\" >0</td> \n",
       "        <td id=\"T_52b222b0_1d61_11e9_87e4_448500fd0966row0_col9\" class=\"data row0 col9\" >182</td> \n",
       "        <td id=\"T_52b222b0_1d61_11e9_87e4_448500fd0966row0_col10\" class=\"data row0 col10\" >2</td> \n",
       "        <td id=\"T_52b222b0_1d61_11e9_87e4_448500fd0966row0_col11\" class=\"data row0 col11\" >1</td> \n",
       "        <td id=\"T_52b222b0_1d61_11e9_87e4_448500fd0966row0_col12\" class=\"data row0 col12\" >0</td> \n",
       "        <td id=\"T_52b222b0_1d61_11e9_87e4_448500fd0966row0_col13\" class=\"data row0 col13\" >125</td> \n",
       "        <td id=\"T_52b222b0_1d61_11e9_87e4_448500fd0966row0_col14\" class=\"data row0 col14\" >1</td> \n",
       "        <td id=\"T_52b222b0_1d61_11e9_87e4_448500fd0966row0_col15\" class=\"data row0 col15\" >0</td> \n",
       "        <td id=\"T_52b222b0_1d61_11e9_87e4_448500fd0966row0_col16\" class=\"data row0 col16\" >0</td> \n",
       "    </tr>    <tr> \n",
       "        <th id=\"T_52b222b0_1d61_11e9_87e4_448500fd0966\" class=\"row_heading level0 row1\" >male</th> \n",
       "        <td id=\"T_52b222b0_1d61_11e9_87e4_448500fd0966row1_col0\" class=\"data row1 col0\" >1</td> \n",
       "        <td id=\"T_52b222b0_1d61_11e9_87e4_448500fd0966row1_col1\" class=\"data row1 col1\" >2</td> \n",
       "        <td id=\"T_52b222b0_1d61_11e9_87e4_448500fd0966row1_col2\" class=\"data row1 col2\" >0</td> \n",
       "        <td id=\"T_52b222b0_1d61_11e9_87e4_448500fd0966row1_col3\" class=\"data row1 col3\" >1</td> \n",
       "        <td id=\"T_52b222b0_1d61_11e9_87e4_448500fd0966row1_col4\" class=\"data row1 col4\" >6</td> \n",
       "        <td id=\"T_52b222b0_1d61_11e9_87e4_448500fd0966row1_col5\" class=\"data row1 col5\" >1</td> \n",
       "        <td id=\"T_52b222b0_1d61_11e9_87e4_448500fd0966row1_col6\" class=\"data row1 col6\" >0</td> \n",
       "        <td id=\"T_52b222b0_1d61_11e9_87e4_448500fd0966row1_col7\" class=\"data row1 col7\" >2</td> \n",
       "        <td id=\"T_52b222b0_1d61_11e9_87e4_448500fd0966row1_col8\" class=\"data row1 col8\" >40</td> \n",
       "        <td id=\"T_52b222b0_1d61_11e9_87e4_448500fd0966row1_col9\" class=\"data row1 col9\" >0</td> \n",
       "        <td id=\"T_52b222b0_1d61_11e9_87e4_448500fd0966row1_col10\" class=\"data row1 col10\" >0</td> \n",
       "        <td id=\"T_52b222b0_1d61_11e9_87e4_448500fd0966row1_col11\" class=\"data row1 col11\" >0</td> \n",
       "        <td id=\"T_52b222b0_1d61_11e9_87e4_448500fd0966row1_col12\" class=\"data row1 col12\" >517</td> \n",
       "        <td id=\"T_52b222b0_1d61_11e9_87e4_448500fd0966row1_col13\" class=\"data row1 col13\" >0</td> \n",
       "        <td id=\"T_52b222b0_1d61_11e9_87e4_448500fd0966row1_col14\" class=\"data row1 col14\" >0</td> \n",
       "        <td id=\"T_52b222b0_1d61_11e9_87e4_448500fd0966row1_col15\" class=\"data row1 col15\" >6</td> \n",
       "        <td id=\"T_52b222b0_1d61_11e9_87e4_448500fd0966row1_col16\" class=\"data row1 col16\" >1</td> \n",
       "    </tr></tbody> \n",
       "</table> "
      ],
      "text/plain": [
       "<pandas.io.formats.style.Styler at 0xdc2e7f0>"
      ]
     },
     "execution_count": 39,
     "metadata": {},
     "output_type": "execute_result"
    }
   ],
   "source": [
    "data['Initial']=0\n",
    "for i in data:\n",
    "    data['Initial']=data.Name.str.extract('([A-Za-z]+)\\.') #lets extract the Salutations\n",
    "pd.crosstab(data.Initial,data.Sex).T.style.background_gradient(cmap='summer_r') #Checking the Initials with the Sex"
   ]
  },
  {
   "cell_type": "code",
   "execution_count": 40,
   "metadata": {
    "collapsed": true
   },
   "outputs": [],
   "source": [
    "data['Initial'].replace(['Mlle','Mme','Ms','Dr','Major','Lady','Countess','Jonkheer','Col','Rev','Capt','Sir','Don'],\n",
    "                        ['Miss','Miss','Miss','Mr','Mr','Mrs','Mrs','Other','Other','Other','Mr','Mr','Mr'],inplace=True)"
   ]
  },
  {
   "cell_type": "code",
   "execution_count": 41,
   "metadata": {
    "collapsed": true
   },
   "outputs": [
    {
     "data": {
      "text/plain": [
       "Initial\n",
       "Master     4.574167\n",
       "Miss      21.860000\n",
       "Mr        32.739609\n",
       "Mrs       35.981818\n",
       "Other     45.888889\n",
       "Name: Age, dtype: float64"
      ]
     },
     "execution_count": 41,
     "metadata": {},
     "output_type": "execute_result"
    }
   ],
   "source": [
    "data.groupby('Initial')['Age'].mean()"
   ]
  },
  {
   "cell_type": "code",
   "execution_count": 42,
   "metadata": {
    "collapsed": true
   },
   "outputs": [],
   "source": [
    "## Assigning the NaN Values with the Ceil values of the mean ages\n",
    "data.loc[(data.Age.isnull())&(data.Initial=='Mr'),'Age']=33\n",
    "data.loc[(data.Age.isnull())&(data.Initial=='Mrs'),'Age']=36\n",
    "data.loc[(data.Age.isnull())&(data.Initial=='Master'),'Age']=5\n",
    "data.loc[(data.Age.isnull())&(data.Initial=='Miss'),'Age']=22\n",
    "data.loc[(data.Age.isnull())&(data.Initial=='Other'),'Age']=46"
   ]
  },
  {
   "cell_type": "code",
   "execution_count": 43,
   "metadata": {
    "collapsed": true
   },
   "outputs": [
    {
     "data": {
      "text/plain": [
       "False"
      ]
     },
     "execution_count": 43,
     "metadata": {},
     "output_type": "execute_result"
    }
   ],
   "source": [
    "data.Age.isnull().any()"
   ]
  },
  {
   "cell_type": "code",
   "execution_count": 44,
   "metadata": {
    "collapsed": true
   },
   "outputs": [
    {
     "data": {
      "image/png": "[encoded data removed]",
      "text/plain": [
       "<matplotlib.figure.Figure at 0xdd06320>"
      ]
     },
     "metadata": {},
     "output_type": "display_data"
    }
   ],
   "source": [
    "f,ax=plt.subplots(1,2,figsize=(20,10))\n",
    "data[data['Survived']==0].Age.plot.hist(ax=ax[0],bins=20,edgecolor='black',color='red')\n",
    "ax[0].set_title('Survived= 0')\n",
    "x1=list(range(0,85,5))\n",
    "ax[0].set_xticks(x1)\n",
    "data[data['Survived']==1].Age.plot.hist(ax=ax[1],color='green',bins=20,edgecolor='black')\n",
    "ax[1].set_title('Survived= 1')\n",
    "x2=list(range(0,85,5))\n",
    "ax[1].set_xticks(x2)\n",
    "plt.show()"
   ]
  },
  {
   "cell_type": "code",
   "execution_count": 45,
   "metadata": {
    "collapsed": true
   },
   "outputs": [
    {
     "data": {
      "image/png": "[encoded data removed]",
      "text/plain": [
       "<matplotlib.figure.Figure at 0x1010fc18>"
      ]
     },
     "metadata": {},
     "output_type": "display_data"
    }
   ],
   "source": [
    "sns.factorplot('Pclass','Survived',col='Initial',data=data)\n",
    "plt.show()"
   ]
  },
  {
   "cell_type": "code",
   "execution_count": 46,
   "metadata": {
    "collapsed": true
   },
   "outputs": [
    {
     "data": {
      "text/html": [
       "<style  type=\"text/css\" >\n",
       "    #T_a963bd30_1d61_11e9_a44d_448500fd0966row0_col0 {\n",
       "            background-color:  #fcfe66;\n",
       "        }    #T_a963bd30_1d61_11e9_a44d_448500fd0966row0_col1 {\n",
       "            background-color:  #f2f866;\n",
       "        }    #T_a963bd30_1d61_11e9_a44d_448500fd0966row0_col2 {\n",
       "            background-color:  #d2e866;\n",
       "        }    #T_a963bd30_1d61_11e9_a44d_448500fd0966row0_col3 {\n",
       "            background-color:  #d8ec66;\n",
       "        }    #T_a963bd30_1d61_11e9_a44d_448500fd0966row0_col4 {\n",
       "            background-color:  #e8f466;\n",
       "        }    #T_a963bd30_1d61_11e9_a44d_448500fd0966row1_col0 {\n",
       "            background-color:  #ffff66;\n",
       "        }    #T_a963bd30_1d61_11e9_a44d_448500fd0966row1_col1 {\n",
       "            background-color:  #fcfe66;\n",
       "        }    #T_a963bd30_1d61_11e9_a44d_448500fd0966row1_col2 {\n",
       "            background-color:  #f9fc66;\n",
       "        }    #T_a963bd30_1d61_11e9_a44d_448500fd0966row1_col3 {\n",
       "            background-color:  #fbfd66;\n",
       "        }    #T_a963bd30_1d61_11e9_a44d_448500fd0966row1_col4 {\n",
       "            background-color:  #fbfd66;\n",
       "        }    #T_a963bd30_1d61_11e9_a44d_448500fd0966row2_col0 {\n",
       "            background-color:  #e6f266;\n",
       "        }    #T_a963bd30_1d61_11e9_a44d_448500fd0966row2_col1 {\n",
       "            background-color:  #eef666;\n",
       "        }    #T_a963bd30_1d61_11e9_a44d_448500fd0966row2_col2 {\n",
       "            background-color:  #f0f866;\n",
       "        }    #T_a963bd30_1d61_11e9_a44d_448500fd0966row2_col3 {\n",
       "            background-color:  #e8f466;\n",
       "        }    #T_a963bd30_1d61_11e9_a44d_448500fd0966row2_col4 {\n",
       "            background-color:  #edf666;\n",
       "        }    #T_a963bd30_1d61_11e9_a44d_448500fd0966row3_col0 {\n",
       "            background-color:  #ffff66;\n",
       "        }    #T_a963bd30_1d61_11e9_a44d_448500fd0966row3_col1 {\n",
       "            background-color:  #ffff66;\n",
       "        }    #T_a963bd30_1d61_11e9_a44d_448500fd0966row3_col2 {\n",
       "            background-color:  #ffff66;\n",
       "        }    #T_a963bd30_1d61_11e9_a44d_448500fd0966row3_col3 {\n",
       "            background-color:  #ffff66;\n",
       "        }    #T_a963bd30_1d61_11e9_a44d_448500fd0966row3_col4 {\n",
       "            background-color:  #ffff66;\n",
       "        }    #T_a963bd30_1d61_11e9_a44d_448500fd0966row4_col0 {\n",
       "            background-color:  #ffff66;\n",
       "        }    #T_a963bd30_1d61_11e9_a44d_448500fd0966row4_col1 {\n",
       "            background-color:  #ffff66;\n",
       "        }    #T_a963bd30_1d61_11e9_a44d_448500fd0966row4_col2 {\n",
       "            background-color:  #fefe66;\n",
       "        }    #T_a963bd30_1d61_11e9_a44d_448500fd0966row4_col3 {\n",
       "            background-color:  #ffff66;\n",
       "        }    #T_a963bd30_1d61_11e9_a44d_448500fd0966row4_col4 {\n",
       "            background-color:  #ffff66;\n",
       "        }    #T_a963bd30_1d61_11e9_a44d_448500fd0966row5_col0 {\n",
       "            background-color:  #e3f166;\n",
       "        }    #T_a963bd30_1d61_11e9_a44d_448500fd0966row5_col1 {\n",
       "            background-color:  #ecf666;\n",
       "        }    #T_a963bd30_1d61_11e9_a44d_448500fd0966row5_col2 {\n",
       "            background-color:  #e6f266;\n",
       "        }    #T_a963bd30_1d61_11e9_a44d_448500fd0966row5_col3 {\n",
       "            background-color:  #f8fc66;\n",
       "        }    #T_a963bd30_1d61_11e9_a44d_448500fd0966row5_col4 {\n",
       "            background-color:  #ebf566;\n",
       "        }    #T_a963bd30_1d61_11e9_a44d_448500fd0966row6_col0 {\n",
       "            background-color:  #f9fc66;\n",
       "        }    #T_a963bd30_1d61_11e9_a44d_448500fd0966row6_col1 {\n",
       "            background-color:  #e4f266;\n",
       "        }    #T_a963bd30_1d61_11e9_a44d_448500fd0966row6_col2 {\n",
       "            background-color:  #cde666;\n",
       "        }    #T_a963bd30_1d61_11e9_a44d_448500fd0966row6_col3 {\n",
       "            background-color:  #bede66;\n",
       "        }    #T_a963bd30_1d61_11e9_a44d_448500fd0966row6_col4 {\n",
       "            background-color:  #dbed66;\n",
       "        }    #T_a963bd30_1d61_11e9_a44d_448500fd0966row7_col0 {\n",
       "            background-color:  #edf666;\n",
       "        }    #T_a963bd30_1d61_11e9_a44d_448500fd0966row7_col1 {\n",
       "            background-color:  #d3e966;\n",
       "        }    #T_a963bd30_1d61_11e9_a44d_448500fd0966row7_col2 {\n",
       "            background-color:  #bdde66;\n",
       "        }    #T_a963bd30_1d61_11e9_a44d_448500fd0966row7_col3 {\n",
       "            background-color:  #dcee66;\n",
       "        }    #T_a963bd30_1d61_11e9_a44d_448500fd0966row7_col4 {\n",
       "            background-color:  #d1e866;\n",
       "        }    #T_a963bd30_1d61_11e9_a44d_448500fd0966row8_col0 {\n",
       "            background-color:  #52a866;\n",
       "        }    #T_a963bd30_1d61_11e9_a44d_448500fd0966row8_col1 {\n",
       "            background-color:  #81c066;\n",
       "        }    #T_a963bd30_1d61_11e9_a44d_448500fd0966row8_col2 {\n",
       "            background-color:  #dcee66;\n",
       "        }    #T_a963bd30_1d61_11e9_a44d_448500fd0966row8_col3 {\n",
       "            background-color:  #b0d866;\n",
       "        }    #T_a963bd30_1d61_11e9_a44d_448500fd0966row8_col4 {\n",
       "            background-color:  #9acc66;\n",
       "        }    #T_a963bd30_1d61_11e9_a44d_448500fd0966row9_col0 {\n",
       "            background-color:  #008066;\n",
       "        }    #T_a963bd30_1d61_11e9_a44d_448500fd0966row9_col1 {\n",
       "            background-color:  #008066;\n",
       "        }    #T_a963bd30_1d61_11e9_a44d_448500fd0966row9_col2 {\n",
       "            background-color:  #008066;\n",
       "        }    #T_a963bd30_1d61_11e9_a44d_448500fd0966row9_col3 {\n",
       "            background-color:  #008066;\n",
       "        }    #T_a963bd30_1d61_11e9_a44d_448500fd0966row9_col4 {\n",
       "            background-color:  #008066;\n",
       "        }</style>  \n",
       "<table id=\"T_a963bd30_1d61_11e9_a44d_448500fd0966\" > \n",
       "<thead>    <tr> \n",
       "        <th class=\"blank\" ></th> \n",
       "        <th class=\"index_name level0\" >Survived</th> \n",
       "        <th class=\"col_heading level0 col0\" colspan=2>0</th> \n",
       "        <th class=\"col_heading level0 col2\" colspan=2>1</th> \n",
       "        <th class=\"col_heading level0 col4\" >All</th> \n",
       "    </tr>    <tr> \n",
       "        <th class=\"blank\" ></th> \n",
       "        <th class=\"index_name level1\" >Sex</th> \n",
       "        <th class=\"col_heading level1 col0\" >female</th> \n",
       "        <th class=\"col_heading level1 col1\" >male</th> \n",
       "        <th class=\"col_heading level1 col2\" >female</th> \n",
       "        <th class=\"col_heading level1 col3\" >male</th> \n",
       "        <th class=\"col_heading level1 col4\" ></th> \n",
       "    </tr>    <tr> \n",
       "        <th class=\"index_name level0\" >Embarked</th> \n",
       "        <th class=\"index_name level1\" >Pclass</th> \n",
       "        <th class=\"blank\" ></th> \n",
       "        <th class=\"blank\" ></th> \n",
       "        <th class=\"blank\" ></th> \n",
       "        <th class=\"blank\" ></th> \n",
       "        <th class=\"blank\" ></th> \n",
       "    </tr></thead> \n",
       "<tbody>    <tr> \n",
       "        <th id=\"T_a963bd30_1d61_11e9_a44d_448500fd0966\" class=\"row_heading level0 row0\" rowspan=3>C</th> \n",
       "        <th id=\"T_a963bd30_1d61_11e9_a44d_448500fd0966\" class=\"row_heading level1 row0\" >1</th> \n",
       "        <td id=\"T_a963bd30_1d61_11e9_a44d_448500fd0966row0_col0\" class=\"data row0 col0\" >1</td> \n",
       "        <td id=\"T_a963bd30_1d61_11e9_a44d_448500fd0966row0_col1\" class=\"data row0 col1\" >25</td> \n",
       "        <td id=\"T_a963bd30_1d61_11e9_a44d_448500fd0966row0_col2\" class=\"data row0 col2\" >42</td> \n",
       "        <td id=\"T_a963bd30_1d61_11e9_a44d_448500fd0966row0_col3\" class=\"data row0 col3\" >17</td> \n",
       "        <td id=\"T_a963bd30_1d61_11e9_a44d_448500fd0966row0_col4\" class=\"data row0 col4\" >85</td> \n",
       "    </tr>    <tr> \n",
       "        <th id=\"T_a963bd30_1d61_11e9_a44d_448500fd0966\" class=\"row_heading level1 row1\" >2</th> \n",
       "        <td id=\"T_a963bd30_1d61_11e9_a44d_448500fd0966row1_col0\" class=\"data row1 col0\" >0</td> \n",
       "        <td id=\"T_a963bd30_1d61_11e9_a44d_448500fd0966row1_col1\" class=\"data row1 col1\" >8</td> \n",
       "        <td id=\"T_a963bd30_1d61_11e9_a44d_448500fd0966row1_col2\" class=\"data row1 col2\" >7</td> \n",
       "        <td id=\"T_a963bd30_1d61_11e9_a44d_448500fd0966row1_col3\" class=\"data row1 col3\" >2</td> \n",
       "        <td id=\"T_a963bd30_1d61_11e9_a44d_448500fd0966row1_col4\" class=\"data row1 col4\" >17</td> \n",
       "    </tr>    <tr> \n",
       "        <th id=\"T_a963bd30_1d61_11e9_a44d_448500fd0966\" class=\"row_heading level1 row2\" >3</th> \n",
       "        <td id=\"T_a963bd30_1d61_11e9_a44d_448500fd0966row2_col0\" class=\"data row2 col0\" >8</td> \n",
       "        <td id=\"T_a963bd30_1d61_11e9_a44d_448500fd0966row2_col1\" class=\"data row2 col1\" >33</td> \n",
       "        <td id=\"T_a963bd30_1d61_11e9_a44d_448500fd0966row2_col2\" class=\"data row2 col2\" >15</td> \n",
       "        <td id=\"T_a963bd30_1d61_11e9_a44d_448500fd0966row2_col3\" class=\"data row2 col3\" >10</td> \n",
       "        <td id=\"T_a963bd30_1d61_11e9_a44d_448500fd0966row2_col4\" class=\"data row2 col4\" >66</td> \n",
       "    </tr>    <tr> \n",
       "        <th id=\"T_a963bd30_1d61_11e9_a44d_448500fd0966\" class=\"row_heading level0 row3\" rowspan=3>Q</th> \n",
       "        <th id=\"T_a963bd30_1d61_11e9_a44d_448500fd0966\" class=\"row_heading level1 row3\" >1</th> \n",
       "        <td id=\"T_a963bd30_1d61_11e9_a44d_448500fd0966row3_col0\" class=\"data row3 col0\" >0</td> \n",
       "        <td id=\"T_a963bd30_1d61_11e9_a44d_448500fd0966row3_col1\" class=\"data row3 col1\" >1</td> \n",
       "        <td id=\"T_a963bd30_1d61_11e9_a44d_448500fd0966row3_col2\" class=\"data row3 col2\" >1</td> \n",
       "        <td id=\"T_a963bd30_1d61_11e9_a44d_448500fd0966row3_col3\" class=\"data row3 col3\" >0</td> \n",
       "        <td id=\"T_a963bd30_1d61_11e9_a44d_448500fd0966row3_col4\" class=\"data row3 col4\" >2</td> \n",
       "    </tr>    <tr> \n",
       "        <th id=\"T_a963bd30_1d61_11e9_a44d_448500fd0966\" class=\"row_heading level1 row4\" >2</th> \n",
       "        <td id=\"T_a963bd30_1d61_11e9_a44d_448500fd0966row4_col0\" class=\"data row4 col0\" >0</td> \n",
       "        <td id=\"T_a963bd30_1d61_11e9_a44d_448500fd0966row4_col1\" class=\"data row4 col1\" >1</td> \n",
       "        <td id=\"T_a963bd30_1d61_11e9_a44d_448500fd0966row4_col2\" class=\"data row4 col2\" >2</td> \n",
       "        <td id=\"T_a963bd30_1d61_11e9_a44d_448500fd0966row4_col3\" class=\"data row4 col3\" >0</td> \n",
       "        <td id=\"T_a963bd30_1d61_11e9_a44d_448500fd0966row4_col4\" class=\"data row4 col4\" >3</td> \n",
       "    </tr>    <tr> \n",
       "        <th id=\"T_a963bd30_1d61_11e9_a44d_448500fd0966\" class=\"row_heading level1 row5\" >3</th> \n",
       "        <td id=\"T_a963bd30_1d61_11e9_a44d_448500fd0966row5_col0\" class=\"data row5 col0\" >9</td> \n",
       "        <td id=\"T_a963bd30_1d61_11e9_a44d_448500fd0966row5_col1\" class=\"data row5 col1\" >36</td> \n",
       "        <td id=\"T_a963bd30_1d61_11e9_a44d_448500fd0966row5_col2\" class=\"data row5 col2\" >24</td> \n",
       "        <td id=\"T_a963bd30_1d61_11e9_a44d_448500fd0966row5_col3\" class=\"data row5 col3\" >3</td> \n",
       "        <td id=\"T_a963bd30_1d61_11e9_a44d_448500fd0966row5_col4\" class=\"data row5 col4\" >72</td> \n",
       "    </tr>    <tr> \n",
       "        <th id=\"T_a963bd30_1d61_11e9_a44d_448500fd0966\" class=\"row_heading level0 row6\" rowspan=3>S</th> \n",
       "        <th id=\"T_a963bd30_1d61_11e9_a44d_448500fd0966\" class=\"row_heading level1 row6\" >1</th> \n",
       "        <td id=\"T_a963bd30_1d61_11e9_a44d_448500fd0966row6_col0\" class=\"data row6 col0\" >2</td> \n",
       "        <td id=\"T_a963bd30_1d61_11e9_a44d_448500fd0966row6_col1\" class=\"data row6 col1\" >51</td> \n",
       "        <td id=\"T_a963bd30_1d61_11e9_a44d_448500fd0966row6_col2\" class=\"data row6 col2\" >46</td> \n",
       "        <td id=\"T_a963bd30_1d61_11e9_a44d_448500fd0966row6_col3\" class=\"data row6 col3\" >28</td> \n",
       "        <td id=\"T_a963bd30_1d61_11e9_a44d_448500fd0966row6_col4\" class=\"data row6 col4\" >127</td> \n",
       "    </tr>    <tr> \n",
       "        <th id=\"T_a963bd30_1d61_11e9_a44d_448500fd0966\" class=\"row_heading level1 row7\" >2</th> \n",
       "        <td id=\"T_a963bd30_1d61_11e9_a44d_448500fd0966row7_col0\" class=\"data row7 col0\" >6</td> \n",
       "        <td id=\"T_a963bd30_1d61_11e9_a44d_448500fd0966row7_col1\" class=\"data row7 col1\" >82</td> \n",
       "        <td id=\"T_a963bd30_1d61_11e9_a44d_448500fd0966row7_col2\" class=\"data row7 col2\" >61</td> \n",
       "        <td id=\"T_a963bd30_1d61_11e9_a44d_448500fd0966row7_col3\" class=\"data row7 col3\" >15</td> \n",
       "        <td id=\"T_a963bd30_1d61_11e9_a44d_448500fd0966row7_col4\" class=\"data row7 col4\" >164</td> \n",
       "    </tr>    <tr> \n",
       "        <th id=\"T_a963bd30_1d61_11e9_a44d_448500fd0966\" class=\"row_heading level1 row8\" >3</th> \n",
       "        <td id=\"T_a963bd30_1d61_11e9_a44d_448500fd0966row8_col0\" class=\"data row8 col0\" >55</td> \n",
       "        <td id=\"T_a963bd30_1d61_11e9_a44d_448500fd0966row8_col1\" class=\"data row8 col1\" >231</td> \n",
       "        <td id=\"T_a963bd30_1d61_11e9_a44d_448500fd0966row8_col2\" class=\"data row8 col2\" >33</td> \n",
       "        <td id=\"T_a963bd30_1d61_11e9_a44d_448500fd0966row8_col3\" class=\"data row8 col3\" >34</td> \n",
       "        <td id=\"T_a963bd30_1d61_11e9_a44d_448500fd0966row8_col4\" class=\"data row8 col4\" >353</td> \n",
       "    </tr>    <tr> \n",
       "        <th id=\"T_a963bd30_1d61_11e9_a44d_448500fd0966\" class=\"row_heading level0 row9\" >All</th> \n",
       "        <th id=\"T_a963bd30_1d61_11e9_a44d_448500fd0966\" class=\"row_heading level1 row9\" ></th> \n",
       "        <td id=\"T_a963bd30_1d61_11e9_a44d_448500fd0966row9_col0\" class=\"data row9 col0\" >81</td> \n",
       "        <td id=\"T_a963bd30_1d61_11e9_a44d_448500fd0966row9_col1\" class=\"data row9 col1\" >468</td> \n",
       "        <td id=\"T_a963bd30_1d61_11e9_a44d_448500fd0966row9_col2\" class=\"data row9 col2\" >231</td> \n",
       "        <td id=\"T_a963bd30_1d61_11e9_a44d_448500fd0966row9_col3\" class=\"data row9 col3\" >109</td> \n",
       "        <td id=\"T_a963bd30_1d61_11e9_a44d_448500fd0966row9_col4\" class=\"data row9 col4\" >889</td> \n",
       "    </tr></tbody> \n",
       "</table> "
      ],
      "text/plain": [
       "<pandas.io.formats.style.Styler at 0x10e69cc0>"
      ]
     },
     "execution_count": 46,
     "metadata": {},
     "output_type": "execute_result"
    }
   ],
   "source": [
    "pd.crosstab([data.Embarked,data.Pclass],[data.Survived,data.Sex],margins=True).style.background_gradient(cmap='summer_r')"
   ]
  },
  {
   "cell_type": "code",
   "execution_count": 47,
   "metadata": {
    "collapsed": true
   },
   "outputs": [
    {
     "data": {
      "text/html": [
       "<div>\n",
       "<style>\n",
       "    .dataframe thead tr:only-child th {\n",
       "        text-align: right;\n",
       "    }\n",
       "\n",
       "    .dataframe thead th {\n",
       "        text-align: left;\n",
       "    }\n",
       "\n",
       "    .dataframe tbody tr th {\n",
       "        vertical-align: top;\n",
       "    }\n",
       "</style>\n",
       "<table border=\"1\" class=\"dataframe\">\n",
       "  <thead>\n",
       "    <tr style=\"text-align: right;\">\n",
       "      <th></th>\n",
       "      <th>PassengerId</th>\n",
       "      <th>Survived</th>\n",
       "      <th>Pclass</th>\n",
       "      <th>Name</th>\n",
       "      <th>Sex</th>\n",
       "      <th>Age</th>\n",
       "      <th>SibSp</th>\n",
       "      <th>Parch</th>\n",
       "      <th>Ticket</th>\n",
       "      <th>Fare</th>\n",
       "      <th>Cabin</th>\n",
       "      <th>AgeBin</th>\n",
       "      <th>Initial</th>\n",
       "    </tr>\n",
       "    <tr>\n",
       "      <th>Embarked</th>\n",
       "      <th></th>\n",
       "      <th></th>\n",
       "      <th></th>\n",
       "      <th></th>\n",
       "      <th></th>\n",
       "      <th></th>\n",
       "      <th></th>\n",
       "      <th></th>\n",
       "      <th></th>\n",
       "      <th></th>\n",
       "      <th></th>\n",
       "      <th></th>\n",
       "      <th></th>\n",
       "    </tr>\n",
       "  </thead>\n",
       "  <tbody>\n",
       "    <tr>\n",
       "      <th>C</th>\n",
       "      <td>168</td>\n",
       "      <td>168</td>\n",
       "      <td>168</td>\n",
       "      <td>168</td>\n",
       "      <td>168</td>\n",
       "      <td>168</td>\n",
       "      <td>168</td>\n",
       "      <td>168</td>\n",
       "      <td>168</td>\n",
       "      <td>168</td>\n",
       "      <td>69</td>\n",
       "      <td>130</td>\n",
       "      <td>168</td>\n",
       "    </tr>\n",
       "    <tr>\n",
       "      <th>Q</th>\n",
       "      <td>77</td>\n",
       "      <td>77</td>\n",
       "      <td>77</td>\n",
       "      <td>77</td>\n",
       "      <td>77</td>\n",
       "      <td>77</td>\n",
       "      <td>77</td>\n",
       "      <td>77</td>\n",
       "      <td>77</td>\n",
       "      <td>77</td>\n",
       "      <td>4</td>\n",
       "      <td>28</td>\n",
       "      <td>77</td>\n",
       "    </tr>\n",
       "    <tr>\n",
       "      <th>S</th>\n",
       "      <td>644</td>\n",
       "      <td>644</td>\n",
       "      <td>644</td>\n",
       "      <td>644</td>\n",
       "      <td>644</td>\n",
       "      <td>644</td>\n",
       "      <td>644</td>\n",
       "      <td>644</td>\n",
       "      <td>644</td>\n",
       "      <td>644</td>\n",
       "      <td>129</td>\n",
       "      <td>554</td>\n",
       "      <td>644</td>\n",
       "    </tr>\n",
       "  </tbody>\n",
       "</table>\n",
       "</div>"
      ],
      "text/plain": [
       "          PassengerId  Survived  Pclass  Name  Sex  Age  SibSp  Parch  Ticket  \\\n",
       "Embarked                                                                        \n",
       "C                 168       168     168   168  168  168    168    168     168   \n",
       "Q                  77        77      77    77   77   77     77     77      77   \n",
       "S                 644       644     644   644  644  644    644    644     644   \n",
       "\n",
       "          Fare  Cabin  AgeBin  Initial  \n",
       "Embarked                                \n",
       "C          168     69     130      168  \n",
       "Q           77      4      28       77  \n",
       "S          644    129     554      644  "
      ]
     },
     "execution_count": 47,
     "metadata": {},
     "output_type": "execute_result"
    }
   ],
   "source": [
    "data.groupby('Embarked').count()"
   ]
  },
  {
   "cell_type": "code",
   "execution_count": 48,
   "metadata": {
    "collapsed": true
   },
   "outputs": [],
   "source": [
    "data['Embarked'].fillna('S',inplace=True)"
   ]
  },
  {
   "cell_type": "markdown",
   "metadata": {},
   "source": [
    "### Feature Correlation"
   ]
  },
  {
   "cell_type": "code",
   "execution_count": 49,
   "metadata": {
    "collapsed": true
   },
   "outputs": [
    {
     "data": {
      "image/png": "[encoded data removed]",
      "text/plain": [
       "<matplotlib.figure.Figure at 0x10f9ffd0>"
      ]
     },
     "metadata": {},
     "output_type": "display_data"
    }
   ],
   "source": [
    "sns.heatmap(data.corr(),annot=True,cmap='RdYlGn',linewidths=0.2) \n",
    "#data.corr()-->correlation matrix\n",
    "fig=plt.gcf()\n",
    "fig.set_size_inches(10,8)\n",
    "plt.show()"
   ]
  }
 ],
 "metadata": {
  "anaconda-cloud": {},
  "kernelspec": {
   "display_name": "Python 2",
   "language": "python",
   "name": "python2"
  },
  "language_info": {
   "codemirror_mode": {
    "name": "ipython",
    "version": 2
   },
   "file_extension": ".py",
   "mimetype": "text/x-python",
   "name": "python",
   "nbconvert_exporter": "python",
   "pygments_lexer": "ipython2",
   "version": "2.7.15"
  }
 },
 "nbformat": 4,
 "nbformat_minor": 1
}
